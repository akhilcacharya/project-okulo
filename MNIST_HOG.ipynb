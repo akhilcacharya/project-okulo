{
 "cells": [
  {
   "cell_type": "markdown",
   "metadata": {},
   "source": [
    "# MNIST\n",
    "\n",
    "This notebook contains code for using OpenCV on the MNIST handwritten digit dataset. \n",
    "\n",
    "We ingest and pre-process the data, then extract features using Histogram of Oriented Gradients (HOG). \n",
    "\n",
    "Then, we apply SVM, Decision Tree, Random Forest, and Logistic Regression Classifiers on the extracted features. \n",
    "\n",
    "The decision tree is exported as tree.dot, a GraphViz visualization. "
   ]
  },
  {
   "cell_type": "code",
   "execution_count": null,
   "metadata": {
    "collapsed": false
   },
   "outputs": [],
   "source": [
    "import cv2\n",
    "from sklearn import datasets, svm, metrics, tree, ensemble, linear_model\n",
    "import matplotlib.pyplot as plt\n",
    "import numpy as np\n",
    "import scipy.misc\n",
    "import os\n",
    "import glob\n",
    "\n",
    "rootdir_training = 'mnist_png/training'\n",
    "rootdir_testing = 'mnist_png/testing'"
   ]
  },
  {
   "cell_type": "code",
   "execution_count": null,
   "metadata": {
    "collapsed": true
   },
   "outputs": [],
   "source": [
    "winSize = (16, 16)\n",
    "blockSize = (16,16)\n",
    "blockStride = (1,1)\n",
    "cellSize = (8,8)\n",
    "nbins = 9\n",
    "derivAperture = 1\n",
    "winSigma = 4.\n",
    "histogramNormType = 0\n",
    "L2HysThreshold = 2.0000000000000001e-01\n",
    "gammaCorrection = True\n",
    "\n",
    "hog2 = cv2.HOGDescriptor(winSize,blockSize,blockStride,cellSize,nbins,derivAperture,winSigma,\n",
    "                        histogramNormType,L2HysThreshold,gammaCorrection)"
   ]
  },
  {
   "cell_type": "code",
   "execution_count": null,
   "metadata": {
    "collapsed": false
   },
   "outputs": [],
   "source": [
    "img_paths = glob.glob(rootdir_training + \"/*/*.png\")\n",
    "train_labels =[]\n",
    "training = []\n",
    "for img in img_paths[:]: \n",
    "    label = img.split(\"/\")[-2]\n",
    "    data = cv2.imread(img)\n",
    "    vec = hog2.compute(data)\n",
    "    train_labels.append(label)\n",
    "    training.append(vec)"
   ]
  },
  {
   "cell_type": "code",
   "execution_count": null,
   "metadata": {
    "collapsed": false
   },
   "outputs": [],
   "source": [
    "img_paths = glob.glob(rootdir_testing + \"/*/*.png\")\n",
    "test_labels =[]\n",
    "testing = []\n",
    "for img in img_paths[:]: \n",
    "    label = img.split(\"/\")[-2]\n",
    "    data = cv2.imread(img)\n",
    "    vec = hog2.compute(data)\n",
    "    test_labels.append(label)\n",
    "    testing.append(vec)"
   ]
  },
  {
   "cell_type": "code",
   "execution_count": null,
   "metadata": {
    "collapsed": false
   },
   "outputs": [],
   "source": [
    "nsamples, nx, ny = np.asarray(training).shape\n",
    "training = np.asarray(training).reshape((nsamples,nx*ny))\n",
    "nsamples, nx, ny = np.asarray(testing).shape\n",
    "testing = np.asarray(testing).reshape((nsamples,nx*ny))"
   ]
  },
  {
   "cell_type": "markdown",
   "metadata": {},
   "source": [
    "# SVM Classifier"
   ]
  },
  {
   "cell_type": "code",
   "execution_count": null,
   "metadata": {
    "collapsed": false
   },
   "outputs": [],
   "source": [
    "clf = svm.SVC()\n",
    "clf.fit(training, train_labels)\n",
    "predict = clf.predict(testing)\n",
    "metrics.accuracy_score(predict, test_labels)"
   ]
  },
  {
   "cell_type": "markdown",
   "metadata": {},
   "source": [
    "# Decision Trees Classifier"
   ]
  },
  {
   "cell_type": "code",
   "execution_count": 7,
   "metadata": {
    "collapsed": false
   },
   "outputs": [
    {
     "data": {
      "text/plain": [
       "0.89139999999999997"
      ]
     },
     "execution_count": 7,
     "metadata": {},
     "output_type": "execute_result"
    }
   ],
   "source": [
    "tree_clf = tree.DecisionTreeClassifier()\n",
    "tree_clf.fit(training, train_labels)\n",
    "predict = tree_clf.predict(testing)\n",
    "metrics.accuracy_score(predict, test_labels)"
   ]
  },
  {
   "cell_type": "markdown",
   "metadata": {},
   "source": [
    "# Visualize the Decision Tree"
   ]
  },
  {
   "cell_type": "code",
   "execution_count": 9,
   "metadata": {
    "collapsed": false
   },
   "outputs": [],
   "source": [
    "tree.export_graphviz(tree_clf, out_file='tree.dot')"
   ]
  },
  {
   "cell_type": "markdown",
   "metadata": {},
   "source": [
    "# Random Forest Classifier"
   ]
  },
  {
   "cell_type": "code",
   "execution_count": 13,
   "metadata": {
    "collapsed": false
   },
   "outputs": [
    {
     "data": {
      "text/plain": [
       "0.95840000000000003"
      ]
     },
     "execution_count": 13,
     "metadata": {},
     "output_type": "execute_result"
    }
   ],
   "source": [
    "rf_clf = ensemble.RandomForestClassifier()\n",
    "rf_clf.fit(training, train_labels)\n",
    "predict = rf_clf.predict(testing)\n",
    "metrics.accuracy_score(predict, test_labels)"
   ]
  },
  {
   "cell_type": "markdown",
   "metadata": {},
   "source": [
    "# Logistic Regression Classifier\n"
   ]
  },
  {
   "cell_type": "code",
   "execution_count": 15,
   "metadata": {
    "collapsed": false
   },
   "outputs": [
    {
     "data": {
      "text/plain": [
       "0.97250000000000003"
      ]
     },
     "execution_count": 15,
     "metadata": {},
     "output_type": "execute_result"
    }
   ],
   "source": [
    "lr_clf = linear_model.LogisticRegression()\n",
    "lr_clf.fit(training, train_labels)\n",
    "predict = lr_clf.predict(testing)\n",
    "metrics.accuracy_score(predict, test_labels)"
   ]
  },
  {
   "cell_type": "code",
   "execution_count": null,
   "metadata": {
    "collapsed": true
   },
   "outputs": [],
   "source": []
  }
 ],
 "metadata": {
  "anaconda-cloud": {},
  "kernelspec": {
   "display_name": "Python 2",
   "language": "python",
   "name": "python2"
  },
  "language_info": {
   "codemirror_mode": {
    "name": "ipython",
    "version": 2
   },
   "file_extension": ".py",
   "mimetype": "text/x-python",
   "name": "python",
   "nbconvert_exporter": "python",
   "pygments_lexer": "ipython2",
   "version": "2.7.12"
  }
 },
 "nbformat": 4,
 "nbformat_minor": 0
}
