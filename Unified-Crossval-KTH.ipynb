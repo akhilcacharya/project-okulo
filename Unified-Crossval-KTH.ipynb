{
 "cells": [
  {
   "cell_type": "markdown",
   "metadata": {},
   "source": [
    "Get necessary modules, and define constants"
   ]
  },
  {
   "cell_type": "code",
   "execution_count": 29,
   "metadata": {
    "collapsed": true
   },
   "outputs": [],
   "source": [
    "import os, cv2, sys\n",
    "import numpy as np\n",
    "from scipy import sqrt, pi, arctan2, cos, sin\n",
    "from scipy.ndimage import uniform_filter\n",
    "from sklearn import svm, metrics, tree, ensemble, linear_model\n",
    "from sklearn.model_selection import cross_val_score, cross_val_predict\n",
    "from sklearn.metrics import confusion_matrix\n",
    "import matplotlib.pyplot as plt\n",
    "\n",
    "# The dimensions to resize video frames to before calculating HoF\n",
    "FIXED_WIDTH = 128\n",
    "FIXED_HEIGHT = 128\n",
    "\n",
    "# Property useful for finding length (in frames) of a video.\n",
    "# Renamed here because the way to access it can differ between machines, so we can change it easily\n",
    "FRAME_LENGTH_PROP = cv2.CAP_PROP_FRAME_COUNT\n",
    "\n",
    "# Threshold ratio for segmentation. Segments longer than this * length of smallest video are not discarded\n",
    "SEG_THRESHOLD = 0.5\n",
    "\n",
    "# level parameter for pyramiDEBUG_COLLECTABLE | DEBUG_UNCOLLECTABLE | DEBUG_INSTANCES | DEBUG_OBJECTSding HoF\n",
    "LEVEL = 3\n",
    "\n",
    "# name of the dataset used\n",
    "DATASET = \"KTH\""
   ]
  },
  {
   "cell_type": "markdown",
   "metadata": {},
   "source": [
    "Do some setup necessary for all/most descriptors"
   ]
  },
  {
   "cell_type": "code",
   "execution_count": 30,
   "metadata": {},
   "outputs": [
    {
     "name": "stdout",
     "output_type": "stream",
     "text": [
      "nc: 15\n",
      "train files: 75\n",
      "train labels: 75\n"
     ]
    }
   ],
   "source": [
    "# Directory and files of the first action\n",
    "ACT1_DIR = \"./hof2/running/\"\n",
    "ACT1_FILES = os.listdir(ACT1_DIR)\n",
    "ACT1_FILES = [ACT1_DIR + f for f in ACT1_FILES]\n",
    "\n",
    "# Directory and files of the second action\n",
    "ACT2_DIR = \"./hof2/handclapping/\"\n",
    "ACT2_FILES = os.listdir(ACT2_DIR)\n",
    "ACT2_FILES = [ACT2_DIR + f for f in ACT2_FILES]\n",
    "\n",
    "# Directory and files of the third action\n",
    "ACT3_DIR = \"./hof2/boxing/\"\n",
    "ACT3_FILES = os.listdir(ACT3_DIR)\n",
    "ACT3_FILES = [ACT3_DIR + f for f in ACT3_FILES]\n",
    "\n",
    "# Directory and files of the fourth action\n",
    "ACT4_DIR = \"./hof2/walking/\"\n",
    "ACT4_FILES = os.listdir(ACT4_DIR)\n",
    "ACT4_FILES = [ACT4_DIR + f for f in ACT4_FILES]\n",
    "\n",
    "# Directory and files of the fifth action\n",
    "ACT5_DIR = \"./hof2/handwaving/\"\n",
    "ACT5_FILES = os.listdir(ACT5_DIR)\n",
    "ACT5_FILES = [ACT5_DIR + f for f in ACT5_FILES]\n",
    "\n",
    "\n",
    "# Use equal number of data from each class, setting a cap at a total of 464 files\n",
    "#nc = min(len(ACT1_FILES), len(ACT2_FILES), len(ACT3_FILES), len(ACT4_FILES), len(ACT5_FILES))\n",
    "\n",
    "# We'll actually define a set number here because of memory issues\n",
    "nc = 15\n",
    "\n",
    "print \"nc:\", nc\n",
    "ACT1_FILES = ACT1_FILES[0:nc]\n",
    "ACT2_FILES = ACT2_FILES[0:nc]\n",
    "ACT3_FILES = ACT3_FILES[0:nc]\n",
    "ACT4_FILES = ACT4_FILES[0:nc]\n",
    "ACT5_FILES = ACT5_FILES[0:nc]\n",
    "\n",
    "# Get training files for each action\n",
    "train_files = ACT1_FILES[0:nc] + ACT2_FILES[0:nc] + ACT3_FILES[0:nc] + ACT4_FILES[0:nc] + ACT5_FILES[0:nc]\n",
    "\n",
    "\n",
    "# Put the labels in vectors\n",
    "train_labels = np.zeros(nc*5, int)\n",
    "train_labels[0:nc] = 1\n",
    "train_labels[nc:nc*2] = 2\n",
    "train_labels[nc*2:nc*3] = 3\n",
    "train_labels[nc*3:nc*4] = 4\n",
    "train_labels[nc*4:nc*5] = 5\n",
    "\n",
    "print \"train files:\", len(train_files)\n",
    "print \"train labels:\", len(train_labels)"
   ]
  },
  {
   "cell_type": "markdown",
   "metadata": {},
   "source": [
    "Define a method and parameters for normalizing frames, by transforming them to fixed dimensions and putting them in grayscale"
   ]
  },
  {
   "cell_type": "code",
   "execution_count": 31,
   "metadata": {
    "collapsed": true
   },
   "outputs": [],
   "source": [
    "def normalizeFrame(frame_original):\n",
    "    frame_gray = cv2.cvtColor(frame_original,cv2.COLOR_BGR2GRAY)\n",
    "    frame_gray_resized = cv2.resize(frame_gray, (FIXED_WIDTH, FIXED_HEIGHT))\n",
    "    return frame_gray_resized"
   ]
  },
  {
   "cell_type": "markdown",
   "metadata": {},
   "source": [
    "Define optical flow for this project. Uses the Farneback method for calculation."
   ]
  },
  {
   "cell_type": "code",
   "execution_count": 32,
   "metadata": {
    "collapsed": true
   },
   "outputs": [],
   "source": [
    "# Gets the optical flow [<dx,dy>] from two frames\n",
    "def getOpticalFlow(imPrev, imNew):\n",
    "    flow = cv2.calcOpticalFlowFarneback(imPrev, imNew, flow=None, pyr_scale=.5, levels=3, winsize=9, \n",
    "                                        iterations=1, poly_n=3, poly_sigma=1.1, \n",
    "                                        flags=cv2.OPTFLOW_FARNEBACK_GAUSSIAN)\n",
    "    return flow"
   ]
  },
  {
   "cell_type": "markdown",
   "metadata": {},
   "source": [
    "Define HoF, which takes as parameters the optical flow between two frames, and the numbers of pixels and cells per histogram block"
   ]
  },
  {
   "cell_type": "code",
   "execution_count": 33,
   "metadata": {
    "collapsed": true
   },
   "outputs": [],
   "source": [
    "# Compute the Histogram of Optical Flow (HoF) from the given optical flow\n",
    "def hof(flow, pixels_per_cell, cells_per_block):\n",
    "\n",
    "    MOTION_THRESHOLD=1.0\n",
    "    NUM_ORIENTATIONS = 9\n",
    "\n",
    "    flow = np.atleast_2d(flow)\n",
    "\n",
    "    if flow.dtype.kind == 'u':\n",
    "        flow = flow.astype('float')\n",
    "\n",
    "    # Create NParray filled with zeroes\n",
    "    gx = np.zeros(flow.shape[:2])\n",
    "    gy = np.zeros(flow.shape[:2])\n",
    "\n",
    "    # Find Gx and Gy from the flow field\n",
    "    gx = flow[:,:,1]\n",
    "    gy = flow[:,:,0]\n",
    "\n",
    "\n",
    "    magnitude = sqrt(gx**2 + gy**2)\n",
    "\n",
    "    orientation = arctan2(gy, gx)\n",
    "    orientation = orientation * (180 / pi) % 180\n",
    "\n",
    "    shape_y, shape_x = flow.shape[:2]\n",
    "\n",
    "    x_pixels, y_pixels = pixels_per_cell\n",
    "    y_blocks, y_blocks = cells_per_block\n",
    "\n",
    "    cells_x = int(np.floor(shape_x // x_pixels))\n",
    "    cells_y = int(np.floor(shape_y // y_pixels))\n",
    "\n",
    "    orientation_bins = np.zeros((cells_y, cells_x, NUM_ORIENTATIONS))\n",
    "\n",
    "    subsample = np.index_exp[y_pixels / 2:y_pixels * cells_y:y_pixels, x_pixels / 2:x_pixels * cells_x:x_pixels]\n",
    "\n",
    "    for i in range(NUM_ORIENTATIONS-1):\n",
    "\n",
    "        predicate_less =  orientation < 180 / NUM_ORIENTATIONS * (i + 1)\n",
    "        predicate_greater = orientation >= 180 / NUM_ORIENTATIONS * i\n",
    "\n",
    "        # Filter by orientation\n",
    "\n",
    "        orientation_ = np.where(predicate_less, orientation, -1)\n",
    "        orientation_ = np.where(predicate_greater, orientation_, -1)\n",
    "\n",
    "        predicate_motion = (orientation_ > -1) * (magnitude > MOTION_THRESHOLD)\n",
    "\n",
    "        _magnitude = np.where(predicate_motion, magnitude, 0)\n",
    "\n",
    "        # Filter by magnitude\n",
    "        filtered = uniform_filter(_magnitude, size=(y_pixels, x_pixels))\n",
    "        orientation_bins[:, :, i] = filtered[subsample]\n",
    "\n",
    "    _magnitude = np.where(magnitude <= MOTION_THRESHOLD, magnitude, 0)\n",
    "\n",
    "    filtered = uniform_filter(_magnitude, size=(y_pixels, x_pixels))\n",
    "    orientation_bins[:, :, -1] = filtered[subsample]\n",
    "\n",
    "    num_blocks_x = (cells_x - y_blocks) + 1\n",
    "    num_blocks_y = (cells_y - y_blocks) + 1\n",
    "\n",
    "    # Create matrix\n",
    "    result_blocks = np.zeros((num_blocks_y, num_blocks_x,\n",
    "                                  y_blocks, y_blocks, orientations))\n",
    "\n",
    "    # Fill matrix\n",
    "    for x in range(num_blocks_x):\n",
    "        for y in range(num_blocks_y):\n",
    "            block = orientation_bins[y:y+y_blocks, x:x+y_blocks, :]\n",
    "            denom = sqrt(block.sum()**2 + 1e-5)\n",
    "            result_blocks[y, x, :] = block / denom\n",
    "\n",
    "    return result_blocks.ravel()\n"
   ]
  },
  {
   "cell_type": "markdown",
   "metadata": {},
   "source": [
    "Define a method for calculating HoF between two frames"
   ]
  },
  {
   "cell_type": "code",
   "execution_count": 34,
   "metadata": {
    "collapsed": true
   },
   "outputs": [],
   "source": [
    "# get the Histogram of Optical Flow from two images\n",
    "def getHoF(frame1, frame2):\n",
    "    flow = getOpticalFlow(frame1, frame2)\n",
    "    return hof(flow, pixels_per_cell=(20,20), cells_per_block=(5,5))"
   ]
  },
  {
   "cell_type": "markdown",
   "metadata": {},
   "source": [
    "And another for calculating the HoF feature vector for an entire video"
   ]
  },
  {
   "cell_type": "code",
   "execution_count": 35,
   "metadata": {
    "collapsed": true
   },
   "outputs": [],
   "source": [
    "# get the Histogram of Optical Flows of a video grouped sequentially in a 1D array\n",
    "def getSequentialHoF(video_path):\n",
    "    hofs = []\n",
    "    cap = cv2.VideoCapture(video_path)\n",
    "    ret1, frame1 = cap.read()\n",
    "    frame1 = normalizeFrame(frame1)\n",
    "    while(cap.isOpened()):\n",
    "        ret2, frame2 = cap.read()\n",
    "        if ret2 == True:\n",
    "            frame2 = normalizeFrame(frame2)\n",
    "            hof_array = getHoF(frame1, frame2)\n",
    "            hofs = np.concatenate((hofs, hof_array),axis=0)\n",
    "            frame1 = frame2\n",
    "        else:\n",
    "            break\n",
    "    return hofs"
   ]
  },
  {
   "cell_type": "markdown",
   "metadata": {},
   "source": [
    "So far, we have all the methods necessary for a base HoF descriptor; however, having training/testing videos of different lengths means our feature vectors will have different lengths (not good for classifiers)."
   ]
  },
  {
   "cell_type": "markdown",
   "metadata": {},
   "source": [
    "One approach to remedy this is to pad shorter vectors with zeros to the length of the largest vector. We define two methods to help us with this:"
   ]
  },
  {
   "cell_type": "code",
   "execution_count": 36,
   "metadata": {
    "collapsed": true
   },
   "outputs": [],
   "source": [
    "# Find the length of the largest row in training set and testing set\n",
    "def maxRow(train):\n",
    "    return np.array([len(i) for i in train]).max()\n",
    "\n",
    "# Pad each row of the 2D array, with 0, to a specified width\n",
    "def numpy_fillna(data, width):\n",
    "    # Get lengths of each row of data\n",
    "    lens = np.array([len(i) for i in data])\n",
    "\n",
    "    # Mask of valid places in each row\n",
    "    mask = np.arange(width) < lens[:,None]\n",
    "\n",
    "    # Setup output array and put elements from data into masked positions\n",
    "    out = np.zeros(mask.shape, dtype=data.dtype)\n",
    "    out[mask] = np.concatenate(data)\n",
    "    return out"
   ]
  },
  {
   "cell_type": "markdown",
   "metadata": {},
   "source": [
    "Finally, we define a method which gets all the feature vectors we need, ensuring they are padded to the right length"
   ]
  },
  {
   "cell_type": "code",
   "execution_count": 37,
   "metadata": {
    "collapsed": true
   },
   "outputs": [],
   "source": [
    "def getFeatures_Baseline(train_files, train_labels):\n",
    "    # Make feature vectors\n",
    "    train = [getSequentialHoF(p) for p in train_files]\n",
    "\n",
    "    # Pad them to the max video width\n",
    "    max_width = maxRow(train)#, train);\n",
    "    train_pad = numpy_fillna(np.array(train), max_width)\n",
    "\n",
    "    return train_pad, train_labels"
   ]
  },
  {
   "cell_type": "markdown",
   "metadata": {},
   "source": [
    "This approach works, but may not give us the best accuracy since it introduces noise, especially for shorter videos. A different approach we take is to trim the videos to the length of the smallest video and then apply HoF, using frames only from the middle of each video."
   ]
  },
  {
   "cell_type": "markdown",
   "metadata": {},
   "source": [
    "We define a method to find the length of the shortest video in the video directory"
   ]
  },
  {
   "cell_type": "code",
   "execution_count": 38,
   "metadata": {
    "collapsed": true
   },
   "outputs": [],
   "source": [
    "# Determine the length in frames of the shortest video in the provided dataset\n",
    "def shortest(data_dir):\n",
    "    # get list of files in the directory. directory should be flat with only video files in it\n",
    "    files = os.listdir(data_dir)\n",
    "\n",
    "    # Find the length of the shortest video (in frames)\n",
    "    shortestLen = sys.maxint\n",
    "    for i in range(len(files)):\n",
    "        cap = cv2.VideoCapture(data_dir+files[i])\n",
    "        length = int(cap.get(FRAME_LENGTH_PROP))\n",
    "        if length < shortestLen:\n",
    "            shortestLen = length\n",
    "\n",
    "        cap.release()\n",
    "\n",
    "    return shortestLen"
   ]
  },
  {
   "cell_type": "markdown",
   "metadata": {},
   "source": [
    "And a method which gets the HoF feature vector from the middle of a video, using the amount of frames determined by the above method (passed as param). This is the same as the base sequential HoF method, modified to get frames from the middle."
   ]
  },
  {
   "cell_type": "code",
   "execution_count": 39,
   "metadata": {
    "collapsed": true
   },
   "outputs": [],
   "source": [
    "# Get the Histogram of Optical Flows of a video grouped sequentially in a 1D array\n",
    "# Use only the specified amount of frames, from the middle of the video\n",
    "def getSequentialHoFMiddle(video_path, frames):\n",
    "    hofs = []\n",
    "    cap = cv2.VideoCapture(video_path)\n",
    "    length = int(cap.get(FRAME_LENGTH_PROP))\n",
    "    startIdx = ((length - 1) - frames)/2\n",
    "    if startIdx < 1:\n",
    "        startIdx = 0\n",
    "        \n",
    "    # skip through beginning unneeded frames\n",
    "    frameNum = 0\n",
    "    while (frameNum < startIdx):\n",
    "        cap.grab()\n",
    "        frameNum += 1\n",
    "    frameNum = 0\n",
    "    \n",
    "    # Calculate HoF from necessary frames\n",
    "    ret1, frame1 = cap.read()\n",
    "    frame1 = normalizeFrame(frame1)\n",
    "    while(frameNum < frames-2):\n",
    "        ret2, frame2 = cap.read()\n",
    "        if ret2 == True:\n",
    "            frame2 = normalizeFrame(frame2)\n",
    "            hof_array = getHoF(frame1, frame2)\n",
    "            hofs = np.concatenate((hofs, hof_array),axis=0)\n",
    "            frame1 = frame2\n",
    "            frameNum += 1\n",
    "        else:\n",
    "            break\n",
    "    \n",
    "    cap.release()\n",
    "    return hofs"
   ]
  },
  {
   "cell_type": "markdown",
   "metadata": {},
   "source": [
    "Finally, we define a method which gets all the feature vectors we need, ensuring they are made from trimmed video middles"
   ]
  },
  {
   "cell_type": "code",
   "execution_count": 40,
   "metadata": {
    "collapsed": true
   },
   "outputs": [],
   "source": [
    "def getFeatures_Trimmed(train_files, train_labels):\n",
    "    numFrames = min(shortest(ACT1_DIR), shortest(ACT2_DIR))\n",
    "    train = [getSequentialHoFMiddle(p, numFrames) for p in train_files]\n",
    "\n",
    "    return np.array(train), train_labels"
   ]
  },
  {
   "cell_type": "markdown",
   "metadata": {},
   "source": [
    "This gives us feature vectors with less noise than the baseline method, but can also eliminate a lot of useful information from longer videos. Another method which preserves most of this information while also ensuring uniform-length vectors, is to break each video into fixed-length segments, where each segment is the length of the shortest video in the set."
   ]
  },
  {
   "cell_type": "markdown",
   "metadata": {},
   "source": [
    "We define another method for calculating HoF feature vectors on each segment of a video."
   ]
  },
  {
   "cell_type": "code",
   "execution_count": 41,
   "metadata": {
    "collapsed": true
   },
   "outputs": [],
   "source": [
    "def getSequentialHoFSegments(video_path, label, frames):\n",
    "    seg_hofs = []\n",
    "    hofs = []\n",
    "    cap = cv2.VideoCapture(video_path)\n",
    "    length = int(cap.get(FRAME_LENGTH_PROP))\n",
    "    \n",
    "    ret1, frame1 = cap.read()\n",
    "    frame1 = normalizeFrame(frame1)\n",
    "    while(cap.isOpened()):\n",
    "        hofs = []\n",
    "        for i in range(frames-1):\n",
    "            ret2, frame2 = cap.read()\n",
    "            if ret2 == True:\n",
    "                frame2 = normalizeFrame(frame2)\n",
    "                hof_array = getHoF(frame1, frame2)\n",
    "                hofs = np.concatenate((hofs, hof_array),axis=0)\n",
    "                frame1 = frame2\n",
    "            else:\n",
    "                cap.release()\n",
    "                break\n",
    "        seg_hofs.append(hofs)\n",
    "    \n",
    "    seg_labels = np.full(len(seg_hofs), label)\n",
    "    return seg_hofs, seg_labels"
   ]
  },
  {
   "cell_type": "markdown",
   "metadata": {},
   "source": [
    "The above method can produce one segment per video which is shorter than the minimum length (from the end). We could pad these, but for short segments this would introduce a lot of noise. We define a threshold (is a constant defined at top) length for these videos, pad those above the threshold, and discard segments which are too short."
   ]
  },
  {
   "cell_type": "code",
   "execution_count": 42,
   "metadata": {
    "collapsed": true
   },
   "outputs": [],
   "source": [
    "def getFeatures_Segmented(train_files, train_labels):\n",
    "    numFrames = min(shortest(ACT1_DIR), shortest(ACT2_DIR))\n",
    "    train_result = [a for t,l in zip(train_files, train_labels) for a in getSequentialHoFSegments(t, l, numFrames)]\n",
    "    train = [y for x in train_result[::2] for y in x]\n",
    "    new_train_labels = np.concatenate(train_result[1::2])\n",
    "    train_threshold = int(max([len(x) for x in train]) * SEG_THRESHOLD)\n",
    "    train_trimmed = [x for x,y in zip(train,new_train_labels) if len(x) > train_threshold]\n",
    "    train_labels_trimmed = [y for x,y in zip(train,new_train_labels) if len(x) > train_threshold]\n",
    "    max_width = np.array([len(i) for i in train_trimmed]).max()\n",
    "    train_pad = numpy_fillna(np.array(train_trimmed), max_width)\n",
    "\n",
    "    return train_pad, train_labels_trimmed"
   ]
  },
  {
   "cell_type": "markdown",
   "metadata": {},
   "source": [
    "We've now defined how to get features for HoF, using the padding, trimming, and segmentation methods of ensuring feature vectors are the same shape. Additionally, we want to make HoF feature vectors which use gaussian pyramiding in order to help reduce noise factors in videos."
   ]
  },
  {
   "cell_type": "markdown",
   "metadata": {},
   "source": [
    "Define a method for getting a pyramid for an image"
   ]
  },
  {
   "cell_type": "code",
   "execution_count": 43,
   "metadata": {
    "collapsed": true
   },
   "outputs": [],
   "source": [
    "def getPyramid(img, level):\n",
    "    p = []\n",
    "    p.append(img)\n",
    "    for i in range(level):\n",
    "        p.append(cv2.pyrDown(p[len(p)-1]))\n",
    "    return p"
   ]
  },
  {
   "cell_type": "markdown",
   "metadata": {},
   "source": [
    "Define a method for getting pyramid HoF between two frames"
   ]
  },
  {
   "cell_type": "code",
   "execution_count": 44,
   "metadata": {
    "collapsed": true
   },
   "outputs": [],
   "source": [
    "def pyramidHof(frame1, frame2, level, getHofFunc, getPyramidFunc, getOpticalFlowFunc):\n",
    "    if frame1.shape != frame2.shape:\n",
    "        raise ValueError('frame1 and frame2 should have identical dimensions')\n",
    "    pyramid1 = getPyramidFunc(frame1, level)\n",
    "    pyramid2 = getPyramidFunc(frame2, level)\n",
    "    pyramidHoF = []\n",
    "    for i in range(level):\n",
    "        subframe1 = pyramid1[i]\n",
    "        subframe2 = pyramid2[i]\n",
    "        subflow = getOpticalFlowFunc(subframe1, subframe2)\n",
    "        subhof = getHofFunc(subflow)\n",
    "        pyramidHoF = np.append(pyramidHoF, subhof)\n",
    "    return pyramidHoF"
   ]
  },
  {
   "cell_type": "markdown",
   "metadata": {},
   "source": [
    "Define a method for determining pyramid HoF on whole video"
   ]
  },
  {
   "cell_type": "code",
   "execution_count": 45,
   "metadata": {
    "collapsed": true
   },
   "outputs": [],
   "source": [
    "def getPyramidHof(video_path, level, normalizeFrameFunc=normalizeFrame, getHofFunc=hof, getPyramidFunc=getPyramid, getOpticalFlowFunc=getOpticalFlow):\n",
    "    cap = cv2.VideoCapture(video_path)\n",
    "    vid_hof = []\n",
    "    ret1, frame1 = cap.read()\n",
    "    frame1 = normalizeFrameFunc(frame1)\n",
    "    while(cap.isOpened()):\n",
    "        ret2, frame2 = cap.read()\n",
    "        if ret2 == True:\n",
    "            frame2 = normalizeFrameFunc(frame2)\n",
    "            biframe_hof = pyramidHof(frame1, frame2, level, getHofFunc, getPyramidFunc, getOpticalFlowFunc)\n",
    "            vid_hof = np.append(vid_hof, biframe_hof)\n",
    "            frame1 = frame2\n",
    "        else:\n",
    "            break\n",
    "    cap.release()\n",
    "    return vid_hof"
   ]
  },
  {
   "cell_type": "markdown",
   "metadata": {},
   "source": [
    "Define a method for getting pyramid HoF feature vectors"
   ]
  },
  {
   "cell_type": "code",
   "execution_count": 46,
   "metadata": {
    "collapsed": true
   },
   "outputs": [],
   "source": [
    "def getFeatures_Pyramid_Baseline(train_files, train_labels):\n",
    "    # make feature vectors\n",
    "    train = [getPyramidHof(p, LEVEL) for p in train_files]\n",
    "\n",
    "    # Pad them to the max video width\n",
    "    max_width = maxRow(train)\n",
    "    train_pad = numpy_fillna(np.array(train), max_width)\n",
    "\n",
    "    return train_pad, train_labels"
   ]
  },
  {
   "cell_type": "markdown",
   "metadata": {},
   "source": [
    "Now we want to repeat what we did before with trimming for pyramid HoF"
   ]
  },
  {
   "cell_type": "code",
   "execution_count": 47,
   "metadata": {
    "collapsed": true
   },
   "outputs": [],
   "source": [
    "def getPyramidHofMiddle(video_path, frames, level, normalizeFrameFunc=normalizeFrame, getHofFunc=hof, getPyramidFunc=getPyramid, getOpticalFlowFunc=getOpticalFlow):\n",
    "    cap = cv2.VideoCapture(video_path)\n",
    "    vid_hof = []\n",
    "    \n",
    "    length = int(cap.get(FRAME_LENGTH_PROP))\n",
    "    startIdx = ((length - 1) - frames)/2\n",
    "    if startIdx < 1:\n",
    "        startIdx = 0\n",
    "    # skip through beginning unneeded frames\n",
    "    frameNum = 0\n",
    "    while (frameNum < startIdx):\n",
    "        cap.grab()\n",
    "        frameNum += 1\n",
    "    frameNum = 0\n",
    "    \n",
    "    ret1, frame1 = cap.read()\n",
    "    frame1 = normalizeFrameFunc(frame1)\n",
    "    while(frameNum < frames-2):\n",
    "        ret2, frame2 = cap.read()\n",
    "        if ret2 == True:\n",
    "            frame2 = normalizeFrameFunc(frame2)\n",
    "            biframe_hof = pyramidHof(frame1, frame2, level, getHofFunc, getPyramidFunc, getOpticalFlowFunc)\n",
    "            vid_hof = np.append(vid_hof, biframe_hof)\n",
    "            frame1 = frame2\n",
    "            frameNum += 1\n",
    "        else:\n",
    "            break\n",
    "    cap.release()\n",
    "    return vid_hof\n",
    "\n",
    "def getFeatures_Pyramid_Trimmed(train_files, train_labels):\n",
    "    numFrames = min(shortest(ACT1_DIR), shortest(ACT2_DIR))\n",
    "    train = [getPyramidHofMiddle(p, numFrames, LEVEL) for p in train_files]\n",
    "\n",
    "    return np.array(train), train_labels"
   ]
  },
  {
   "cell_type": "markdown",
   "metadata": {},
   "source": [
    "...As well as for segmentation"
   ]
  },
  {
   "cell_type": "code",
   "execution_count": 48,
   "metadata": {
    "collapsed": true
   },
   "outputs": [],
   "source": [
    "def getPyramidHoFSegments(video_path, label, frames, level, normalizeFrameFunc=normalizeFrame, getHofFunc=hof, getPyramidFunc=getPyramid, getOpticalFlowFunc=getOpticalFlow):\n",
    "    seg_hofs = []\n",
    "    hofs = []\n",
    "    cap = cv2.VideoCapture(video_path)\n",
    "    length = int(cap.get(FRAME_LENGTH_PROP))\n",
    "    \n",
    "    ret1, frame1 = cap.read()\n",
    "    frame1 = normalizeFrame(frame1)\n",
    "    while(cap.isOpened()):\n",
    "        hofs = []\n",
    "        for i in range(frames-1):\n",
    "            ret2, frame2 = cap.read()\n",
    "            if ret2 == True:\n",
    "                frame2 = normalizeFrameFunc(frame2)\n",
    "                biframe_hof = pyramidHof(frame1, frame2, level, getHofFunc, getPyramidFunc, getOpticalFlowFunc)\n",
    "                hofs = np.concatenate((hofs, biframe_hof),axis=0)\n",
    "                frame1 = frame2\n",
    "            else:\n",
    "                cap.release()\n",
    "                break\n",
    "        seg_hofs.append(hofs)\n",
    "    \n",
    "    seg_labels = np.full(len(seg_hofs), label)\n",
    "    return seg_hofs, seg_labels\n",
    "\n",
    "def getFeatures_Pyramid_Segmented(train_files, train_labels):\n",
    "    numFrames = min(shortest(ACT1_DIR), shortest(ACT2_DIR))\n",
    "    train_result = [a for t,l in zip(train_files, train_labels) for a in getPyramidHoFSegments(t, l, numFrames, LEVEL)]\n",
    "    train = [y for x in train_result[::2] for y in x]\n",
    "    new_train_labels = np.concatenate(train_result[1::2])\n",
    "    train_threshold = int(max([len(x) for x in train]) * SEG_THRESHOLD)\n",
    "    train_trimmed = [x for x,y in zip(train,new_train_labels) if len(x) > train_threshold]\n",
    "    train_labels_trimmed = [y for x,y in zip(train,new_train_labels) if len(x) > train_threshold]\n",
    "    max_width = np.array([len(i) for i in train_trimmed]).max()\n",
    "    train_pad = numpy_fillna(np.array(train_trimmed), max_width)\n",
    "\n",
    "    return train_pad, train_labels_trimmed"
   ]
  },
  {
   "cell_type": "markdown",
   "metadata": {},
   "source": [
    "Now, we are ready to train and evaluate models. Define method for training models given featuresets"
   ]
  },
  {
   "cell_type": "code",
   "execution_count": 49,
   "metadata": {
    "collapsed": true
   },
   "outputs": [],
   "source": [
    "def eval_model(featureGen, classifier, (data, labels)):\n",
    "    clf = None\n",
    "    name = \"\"\n",
    "    if (classifier == 0):\n",
    "        clf = svm.SVC()\n",
    "        name = \"SVM\"\n",
    "    elif (classifier == 1):\n",
    "        clf = tree.DecisionTreeClassifier()\n",
    "        name = \"Decision-Tree\"\n",
    "    elif (classifier == 2):\n",
    "        clf = ensemble.RandomForestClassifier()\n",
    "        name = \"Random-Forest\"\n",
    "    else:\n",
    "        clf = linear_model.LogisticRegression()\n",
    "        name = \"Logistic-Regression\"\n",
    "        \n",
    "    cross = cross_val_predict(clf, data, labels, cv=5)\n",
    "    cm = confusion_matrix(labels, cross)\n",
    "    fig = plt.figure()\n",
    "    plt.matshow(cm)\n",
    "    plt.title('CM for ' + featureGen + \", \" + name)\n",
    "    plt.colorbar()\n",
    "    plt.ylabel('True label')\n",
    "    plt.xlabel('Predicted label')\n",
    "    plt.savefig('plots/'+DATASET+'_CM_'+featureGen+'_'+name+'.jpg')\n",
    "    plt.show()\n",
    "    score = metrics.accuracy_score(labels, cross)\n",
    "\n",
    "    return score, name\n",
    "\n",
    "def run(featureGen, data):\n",
    "    for i in range(4):\n",
    "        score, name = eval_model(featureGen, i, data);\n",
    "        line = name + \": %0.2f\" % score\n",
    "        print(line)"
   ]
  },
  {
   "cell_type": "markdown",
   "metadata": {},
   "source": [
    "Use python processify gist provided at https://gist.github.com/schlamar/2311116 to assist with memory management (we are having issues with the garbage collector)"
   ]
  },
  {
   "cell_type": "code",
   "execution_count": 50,
   "metadata": {
    "collapsed": true
   },
   "outputs": [],
   "source": [
    "import traceback\n",
    "from functools import wraps\n",
    "from multiprocessing import Process, Queue\n",
    "\n",
    "def processify(func):\n",
    "    '''Decorator to run a function as a process.\n",
    "    Be sure that every argument and the return value\n",
    "    is *pickable*.\n",
    "    The created process is joined, so the code does not\n",
    "    run in parallel.\n",
    "    '''\n",
    "\n",
    "    def process_func(q, *args, **kwargs):\n",
    "        try:\n",
    "            ret = func(*args, **kwargs)\n",
    "        except Exception:\n",
    "            ex_type, ex_value, tb = sys.exc_info()\n",
    "            error = ex_type, ex_value, ''.join(traceback.format_tb(tb))\n",
    "            ret = None\n",
    "        else:\n",
    "            error = None\n",
    "\n",
    "        q.put((ret, error))\n",
    "\n",
    "    # register original function with different name\n",
    "    # in sys.modules so it is pickable\n",
    "    process_func.__name__ = func.__name__ + 'processify_func'\n",
    "    setattr(sys.modules[__name__], process_func.__name__, process_func)\n",
    "\n",
    "    @wraps(func)\n",
    "    def wrapper(*args, **kwargs):\n",
    "        q = Queue()\n",
    "        p = Process(target=process_func, args=[q] + list(args), kwargs=kwargs)\n",
    "        p.start()\n",
    "        ret, error = q.get()\n",
    "        p.join()\n",
    "\n",
    "        if error:\n",
    "            ex_type, ex_value, tb_str = error\n",
    "            message = '%s (in subprocess)\\n%s' % (ex_value.message, tb_str)\n",
    "            raise ex_type(message)\n",
    "\n",
    "        return ret\n",
    "    return wrapper"
   ]
  },
  {
   "cell_type": "markdown",
   "metadata": {},
   "source": [
    "Test base HoF with padding"
   ]
  },
  {
   "cell_type": "code",
   "execution_count": 51,
   "metadata": {},
   "outputs": [
    {
     "name": "stdout",
     "output_type": "stream",
     "text": [
      "SVM: 0.57\n"
     ]
    },
    {
     "data": {
      "text/plain": [
       "<matplotlib.figure.Figure at 0x7f8b3bd9d210>"
      ]
     },
     "metadata": {},
     "output_type": "display_data"
    },
    {
     "data": {
      "image/png": "[encoded data removed]",
      "text/plain": [
       "<matplotlib.figure.Figure at 0x7f8b3bd69110>"
      ]
     },
     "metadata": {},
     "output_type": "display_data"
    },
    {
     "name": "stdout",
     "output_type": "stream",
     "text": [
      "Decision-Tree: 0.59\n"
     ]
    },
    {
     "data": {
      "text/plain": [
       "<matplotlib.figure.Figure at 0x7f8b3bed3910>"
      ]
     },
     "metadata": {},
     "output_type": "display_data"
    },
    {
     "data": {
      "image/png": "[encoded data removed]",
      "text/plain": [
       "<matplotlib.figure.Figure at 0x7f8b3bbecdd0>"
      ]
     },
     "metadata": {},
     "output_type": "display_data"
    },
    {
     "name": "stdout",
     "output_type": "stream",
     "text": [
      "Random-Forest: 0.67\n"
     ]
    },
    {
     "data": {
      "text/plain": [
       "<matplotlib.figure.Figure at 0x7f8b3bdb9c90>"
      ]
     },
     "metadata": {},
     "output_type": "display_data"
    },
    {
     "data": {
      "image/png": "[encoded data removed]",
      "text/plain": [
       "<matplotlib.figure.Figure at 0x7f8b3baad3d0>"
      ]
     },
     "metadata": {},
     "output_type": "display_data"
    },
    {
     "name": "stdout",
     "output_type": "stream",
     "text": [
      "Logistic-Regression: 0.83\n"
     ]
    }
   ],
   "source": [
    "@processify\n",
    "def basePadded():\n",
    "    line = \"basePadded\"\n",
    "    data = getFeatures_Baseline(train_files, train_labels)\n",
    "    run(line, data)\n",
    "\n",
    "basePadded()"
   ]
  },
  {
   "cell_type": "markdown",
   "metadata": {},
   "source": [
    "Test base HoF with trimming"
   ]
  },
  {
   "cell_type": "code",
   "execution_count": 52,
   "metadata": {},
   "outputs": [
    {
     "name": "stdout",
     "output_type": "stream",
     "text": [
      "SVM: 0.49\n"
     ]
    },
    {
     "data": {
      "text/plain": [
       "<matplotlib.figure.Figure at 0x7f8b3bb7e210>"
      ]
     },
     "metadata": {},
     "output_type": "display_data"
    },
    {
     "data": {
      "image/png": "[encoded data removed]",
      "text/plain": [
       "<matplotlib.figure.Figure at 0x7f8b3bb49110>"
      ]
     },
     "metadata": {},
     "output_type": "display_data"
    },
    {
     "name": "stdout",
     "output_type": "stream",
     "text": [
      "Decision-Tree: 0.48\n"
     ]
    },
    {
     "data": {
      "text/plain": [
       "<matplotlib.figure.Figure at 0x7f8b3bc9d7d0>"
      ]
     },
     "metadata": {},
     "output_type": "display_data"
    },
    {
     "data": {
      "image/png": "[encoded data removed]",
      "text/plain": [
       "<matplotlib.figure.Figure at 0x7f8b3b9ad750>"
      ]
     },
     "metadata": {},
     "output_type": "display_data"
    },
    {
     "name": "stdout",
     "output_type": "stream",
     "text": [
      "Random-Forest: 0.56\n"
     ]
    },
    {
     "data": {
      "text/plain": [
       "<matplotlib.figure.Figure at 0x7f8b3b8d5c50>"
      ]
     },
     "metadata": {},
     "output_type": "display_data"
    },
    {
     "data": {
      "image/png": "[encoded data removed]",
      "text/plain": [
       "<matplotlib.figure.Figure at 0x7f8b3b899250>"
      ]
     },
     "metadata": {},
     "output_type": "display_data"
    },
    {
     "name": "stdout",
     "output_type": "stream",
     "text": [
      "Logistic-Regression: 0.65\n"
     ]
    }
   ],
   "source": [
    "@processify\n",
    "def baseTrimmed():\n",
    "    line = \"baseTrimmed\"\n",
    "    data = getFeatures_Trimmed(train_files, train_labels)\n",
    "    run(line, data)\n",
    "    \n",
    "baseTrimmed()"
   ]
  },
  {
   "cell_type": "markdown",
   "metadata": {},
   "source": [
    "Test base HoF with segmentation"
   ]
  },
  {
   "cell_type": "code",
   "execution_count": null,
   "metadata": {},
   "outputs": [
    {
     "name": "stdout",
     "output_type": "stream",
     "text": [
      "SVM: 0.27\n"
     ]
    },
    {
     "data": {
      "text/plain": [
       "<matplotlib.figure.Figure at 0x7f8ae7edef10>"
      ]
     },
     "metadata": {},
     "output_type": "display_data"
    },
    {
     "data": {
      "image/png": "[encoded data removed]",
      "text/plain": [
       "<matplotlib.figure.Figure at 0x7f8b3bb9ae50>"
      ]
     },
     "metadata": {},
     "output_type": "display_data"
    },
    {
     "name": "stdout",
     "output_type": "stream",
     "text": [
      "Decision-Tree: 0.55\n"
     ]
    },
    {
     "data": {
      "text/plain": [
       "<matplotlib.figure.Figure at 0x7f8b3ba9ac90>"
      ]
     },
     "metadata": {},
     "output_type": "display_data"
    },
    {
     "data": {
      "image/png": "[encoded data removed]",
      "text/plain": [
       "<matplotlib.figure.Figure at 0x7f8b3b9bca90>"
      ]
     },
     "metadata": {},
     "output_type": "display_data"
    },
    {
     "name": "stdout",
     "output_type": "stream",
     "text": [
      "Random-Forest: 0.64\n"
     ]
    },
    {
     "data": {
      "text/plain": [
       "<matplotlib.figure.Figure at 0x7f8b3b8ae390>"
      ]
     },
     "metadata": {},
     "output_type": "display_data"
    },
    {
     "data": {
      "image/png": "[encoded data removed]",
      "text/plain": [
       "<matplotlib.figure.Figure at 0x7f8b3b878910>"
      ]
     },
     "metadata": {},
     "output_type": "display_data"
    },
    {
     "name": "stdout",
     "output_type": "stream",
     "text": [
      "Logistic-Regression: 0.72\n"
     ]
    }
   ],
   "source": [
    "@processify\n",
    "def baseSegmented():\n",
    "    line = \"baseSegmented\"\n",
    "    data = getFeatures_Segmented(train_files, train_labels)\n",
    "    run(line, data)\n",
    "    \n",
    "baseSegmented()"
   ]
  },
  {
   "cell_type": "markdown",
   "metadata": {},
   "source": [
    "Test pyramid HoF with padding"
   ]
  },
  {
   "cell_type": "code",
   "execution_count": null,
   "metadata": {},
   "outputs": [
    {
     "name": "stdout",
     "output_type": "stream",
     "text": [
      "SVM: 0.55\n"
     ]
    },
    {
     "data": {
      "text/plain": [
       "<matplotlib.figure.Figure at 0x7f8b3bd9f850>"
      ]
     },
     "metadata": {},
     "output_type": "display_data"
    },
    {
     "data": {
      "image/png": "[encoded data removed]",
      "text/plain": [
       "<matplotlib.figure.Figure at 0x7f8b3bd621d0>"
      ]
     },
     "metadata": {},
     "output_type": "display_data"
    },
    {
     "name": "stdout",
     "output_type": "stream",
     "text": [
      "Decision-Tree: 0.45\n"
     ]
    }
   ],
   "source": [
    "@processify\n",
    "def pyrPadded():\n",
    "    line = \"pyramidPadded\"\n",
    "    data = getFeatures_Pyramid_Baseline(train_files, train_labels)\n",
    "    run(line, data)\n",
    "    \n",
    "pyrPadded()"
   ]
  },
  {
   "cell_type": "markdown",
   "metadata": {},
   "source": [
    "test pyramid HoF with trimming"
   ]
  },
  {
   "cell_type": "code",
   "execution_count": null,
   "metadata": {
    "collapsed": true
   },
   "outputs": [],
   "source": [
    "@processify\n",
    "def pyrTrimmed():\n",
    "    line = \"pyramidTrimming\"\n",
    "    data = getFeatures_Pyramid_Trimmed(train_files, train_labels)\n",
    "    run(line, data)\n",
    "    \n",
    "pyrTrimmed()"
   ]
  },
  {
   "cell_type": "markdown",
   "metadata": {},
   "source": [
    "test pyramid HoF with segmentation"
   ]
  },
  {
   "cell_type": "code",
   "execution_count": null,
   "metadata": {
    "collapsed": true
   },
   "outputs": [],
   "source": [
    "@processify\n",
    "def pyrSegmented():\n",
    "    line = \"pyramidSegmented\"\n",
    "    data = getFeatures_Pyramid_Segmented(train_files, train_labels)\n",
    "    run(line, data)\n",
    "    \n",
    "pyrSegmented()"
   ]
  }
 ],
 "metadata": {
  "kernelspec": {
   "display_name": "Python 2",
   "language": "python2",
   "name": "python2"
  },
  "language_info": {
   "codemirror_mode": {
    "name": "ipython",
    "version": 2
   },
   "file_extension": ".py",
   "mimetype": "text/x-python",
   "name": "python",
   "nbconvert_exporter": "python",
   "pygments_lexer": "ipython2",
   "version": "2.7.13"
  }
 },
 "nbformat": 4,
 "nbformat_minor": 2
}
