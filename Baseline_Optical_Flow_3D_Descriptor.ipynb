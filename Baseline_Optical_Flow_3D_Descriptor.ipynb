{
 "cells": [
  {
   "cell_type": "code",
   "execution_count": 1,
   "metadata": {
    "collapsed": false
   },
   "outputs": [],
   "source": [
    "import cv2\n",
    "import numpy as np\n",
    "from matplotlib import pyplot as plt"
   ]
  },
  {
   "cell_type": "code",
   "execution_count": 3,
   "metadata": {
    "collapsed": true
   },
   "outputs": [],
   "source": [
    "# Gets the optical flow [<dx,dy>] from two frames\n",
    "def getOpticalFlow(imPrev, imNew):\n",
    "    flow = cv2.calcOpticalFlowFarneback(imPrev, imNew, flow=None, pyr_scale=.5, levels=3, winsize=9, iterations=1, poly_n=3, poly_sigma=1.1, flags=cv2.OPTFLOW_FARNEBACK_GAUSSIAN)\n",
    "    return flow"
   ]
  },
  {
   "cell_type": "code",
   "execution_count": 4,
   "metadata": {
    "collapsed": true
   },
   "outputs": [],
   "source": [
    "# Util functions to plot two images side by side\n",
    "def show2images(im1, im2, title1=\"Image 1\", title2=\"image 2\"):\n",
    "    plt.subplot(1,2,1),plt.imshow(im1, cmap=\"gray\"),plt.title(title1),plt.xticks([]),plt.yticks([])\n",
    "    plt.subplot(1,2,2),plt.imshow(im2, cmap=\"gray\"),plt.title(title2),plt.xticks([]),plt.yticks([])\n",
    "    plt.show()"
   ]
  },
  {
   "cell_type": "markdown",
   "metadata": {},
   "source": [
    "Testing capturing frames from videos via CV2"
   ]
  },
  {
   "cell_type": "code",
   "execution_count": 32,
   "metadata": {
    "collapsed": false
   },
   "outputs": [
    {
     "name": "stdout",
     "output_type": "stream",
     "text": [
      "True\n",
      "True\n",
      "/Users/kaveenherath/Documents/github/project-okulo\n"
     ]
    }
   ],
   "source": [
    "SOURCE = \"sample.mp4\"\n",
    "cap = cv2.VideoCapture(SOURCE)\n",
    "ret1, frame1_original = cap.read()\n",
    "ret2, frame2_original = cap.read()\n",
    "cap.release()\n",
    "\n",
    "print ret1\n",
    "print ret2\n",
    "\n",
    "\n",
    "import os\n",
    "\n",
    "print os.getcwd()"
   ]
  },
  {
   "cell_type": "markdown",
   "metadata": {},
   "source": [
    "We are standardizing the images so they are all grayscaled and have the same width and height"
   ]
  },
  {
   "cell_type": "code",
   "execution_count": 33,
   "metadata": {
    "collapsed": false
   },
   "outputs": [
    {
     "data": {
      "image/png": "[encoded data removed]",
      "text/plain": [
       "<matplotlib.figure.Figure at 0x10b9bd910>"
      ]
     },
     "metadata": {},
     "output_type": "display_data"
    }
   ],
   "source": [
    "FIXED_WIDTH = 160\n",
    "FIXED_HEIGHT = 120\n",
    "\n",
    "frame1_gray = cv2.cvtColor(frame1_original,cv2.COLOR_BGR2GRAY)\n",
    "frame2_gray = cv2.cvtColor(frame2_original,cv2.COLOR_BGR2GRAY)\n",
    "\n",
    "frame1_gray_resized = cv2.resize(frame1_gray, (FIXED_WIDTH, FIXED_HEIGHT))\n",
    "frame2_gray_resized = cv2.resize(frame1_gray, (FIXED_WIDTH, FIXED_HEIGHT))\n",
    "\n",
    "show2images(frame1_gray_resized, frame2_gray_resized)"
   ]
  },
  {
   "cell_type": "markdown",
   "metadata": {
    "collapsed": true
   },
   "source": [
    "Calculate the optical flow of the two standardized images"
   ]
  },
  {
   "cell_type": "code",
   "execution_count": 34,
   "metadata": {
    "collapsed": false,
    "scrolled": true
   },
   "outputs": [],
   "source": [
    "flow = getOpticalFlow(frame1_gray_resized, frame2_gray_resized)"
   ]
  },
  {
   "cell_type": "code",
   "execution_count": 41,
   "metadata": {
    "collapsed": false
   },
   "outputs": [],
   "source": [
    "# Compute the Histogram of Optical Flow (HoF) from the given optica flow\n",
    "\n",
    "from scipy import sqrt, pi, arctan2, cos, sin\n",
    "from scipy.ndimage import uniform_filter\n",
    "def hof(flow, orientations=9, pixels_per_cell=(10, 10),\n",
    "        cells_per_block=(4, 3), visualise=False, normalise=False, motion_threshold=1.):\n",
    "\n",
    "    \"\"\"Extract Histogram of Optical Flow (HOF) for a given image.\n",
    "    Key difference between this and HOG is that flow is MxNx2 instead of MxN\n",
    "    Compute a Histogram of Optical Flow (HOF) by\n",
    "        1. (optional) global image normalisation\n",
    "        2. computing the dense optical flow\n",
    "        3. computing flow histograms\n",
    "        4. normalising across blocks\n",
    "        5. flattening into a feature vector\n",
    "    Parameters\n",
    "    ----------\n",
    "    Flow : (M, N) ndarray\n",
    "        Input image (x and y flow images).\n",
    "    orientations : int\n",
    "        Number of orientation bins.\n",
    "    pixels_per_cell : 2 tuple (int, int)\n",
    "        Size (in pixels) of a cell.\n",
    "    cells_per_block  : 2 tuple (int,int)\n",
    "        Number of cells in each block.\n",
    "    visualise : bool, optional\n",
    "        Also return an image of the hof.\n",
    "    normalise : bool, optional\n",
    "        Apply power law compression to normalise the image before\n",
    "        processing.\n",
    "    static_threshold : threshold for no motion\n",
    "    Returns\n",
    "    -------\n",
    "    newarr : ndarray\n",
    "        hof for the image as a 1D (flattened) array.\n",
    "    hof_image : ndarray (if visualise=True)\n",
    "        A visualisation of the hof image.\n",
    "    References\n",
    "    ----------\n",
    "    * http://en.wikipedia.org/wiki/Histogram_of_oriented_gradients\n",
    "    * Dalal, N and Triggs, B, Histograms of Oriented Gradients for\n",
    "      Human Detection, IEEE Computer Society Conference on Computer\n",
    "      Vision and Pattern Recognition 2005 San Diego, CA, USA\n",
    "    \"\"\"\n",
    "    flow = np.atleast_2d(flow)\n",
    "\n",
    "    \"\"\" \n",
    "    -1-\n",
    "    The first stage applies an optional global image normalisation\n",
    "    equalisation that is designed to reduce the influence of illumination\n",
    "    effects. In practice we use gamma (power law) compression, either\n",
    "    computing the square root or the log of each colour channel.\n",
    "    Image texture strength is typically proportional to the local surface\n",
    "    illumination so this compression helps to reduce the effects of local\n",
    "    shadowing and illumination variations.\n",
    "    \"\"\"\n",
    "\n",
    "    if flow.ndim < 3:\n",
    "        raise ValueError(\"Requires dense flow in both directions\")\n",
    "\n",
    "    if normalise:\n",
    "        flow = sqrt(flow)\n",
    "\n",
    "    \"\"\" \n",
    "    -2-\n",
    "    The second stage computes first order image gradients. These capture\n",
    "    contour, silhouette and some texture information, while providing\n",
    "    further resistance to illumination variations. The locally dominant\n",
    "    colour channel is used, which provides colour invariance to a large\n",
    "    extent. Variant methods may also include second order image derivatives,\n",
    "    which act as primitive bar detectors - a useful feature for capturing,\n",
    "    e.g. bar like structures in bicycles and limbs in humans.\n",
    "    \"\"\"\n",
    "\n",
    "    if flow.dtype.kind == 'u':\n",
    "        # convert uint image to float\n",
    "        # to avoid problems with subtracting unsigned numbers in np.diff()\n",
    "        flow = flow.astype('float')\n",
    "\n",
    "    gx = np.zeros(flow.shape[:2])\n",
    "    gy = np.zeros(flow.shape[:2])\n",
    "    # gx[:, :-1] = np.diff(flow[:,:,1], n=1, axis=1)\n",
    "    # gy[:-1, :] = np.diff(flow[:,:,0], n=1, axis=0)\n",
    "\n",
    "    gx = flow[:,:,1]\n",
    "    gy = flow[:,:,0]\n",
    "\n",
    "\n",
    "\n",
    "    \"\"\" \n",
    "    -3-\n",
    "    The third stage aims to produce an encoding that is sensitive to\n",
    "    local image content while remaining resistant to small changes in\n",
    "    pose or appearance. The adopted method pools gradient orientation\n",
    "    information locally in the same way as the SIFT [Lowe 2004]\n",
    "    feature. The image window is divided into small spatial regions,\n",
    "    called \"cells\". For each cell we accumulate a local 1-D histogram\n",
    "    of gradient or edge orientations over all the pixels in the\n",
    "    cell. This combined cell-level 1-D histogram forms the basic\n",
    "    \"orientation histogram\" representation. Each orientation histogram\n",
    "    divides the gradient angle range into a fixed number of\n",
    "    predetermined bins. The gradient magnitudes of the pixels in the\n",
    "    cell are used to vote into the orientation histogram.\n",
    "    \"\"\"\n",
    "\n",
    "    magnitude = sqrt(gx**2 + gy**2)\n",
    "    orientation = arctan2(gy, gx) * (180 / pi) % 180\n",
    "\n",
    "    sy, sx = flow.shape[:2]\n",
    "    cx, cy = pixels_per_cell\n",
    "    bx, by = cells_per_block\n",
    "\n",
    "    n_cellsx = int(np.floor(sx // cx))  # number of cells in x\n",
    "    n_cellsy = int(np.floor(sy // cy))  # number of cells in y\n",
    "\n",
    "    # compute orientations integral images\n",
    "    orientation_histogram = np.zeros((n_cellsy, n_cellsx, orientations))\n",
    "    subsample = np.index_exp[cy / 2:cy * n_cellsy:cy, cx / 2:cx * n_cellsx:cx]\n",
    "    for i in range(orientations-1):\n",
    "        #create new integral image for this orientation\n",
    "        # isolate orientations in this range\n",
    "\n",
    "        temp_ori = np.where(orientation < 180 / orientations * (i + 1),\n",
    "                            orientation, -1)\n",
    "        temp_ori = np.where(orientation >= 180 / orientations * i,\n",
    "                            temp_ori, -1)\n",
    "        # select magnitudes for those orientations\n",
    "        cond2 = (temp_ori > -1) * (magnitude > motion_threshold)\n",
    "        temp_mag = np.where(cond2, magnitude, 0)\n",
    "\n",
    "        temp_filt = uniform_filter(temp_mag, size=(cy, cx))\n",
    "        orientation_histogram[:, :, i] = temp_filt[subsample]\n",
    "\n",
    "    ''' Calculate the no-motion bin '''\n",
    "    temp_mag = np.where(magnitude <= motion_threshold, magnitude, 0)\n",
    "\n",
    "    temp_filt = uniform_filter(temp_mag, size=(cy, cx))\n",
    "    orientation_histogram[:, :, -1] = temp_filt[subsample]\n",
    "\n",
    "    # now for each cell, compute the histogram\n",
    "    hof_image = None\n",
    "\n",
    "    if visualise:\n",
    "        from skimage import draw\n",
    "\n",
    "        radius = min(cx, cy) // 2 - 1\n",
    "        hof_image = np.zeros((sy, sx), dtype=float)\n",
    "        for x in range(n_cellsx):\n",
    "            for y in range(n_cellsy):\n",
    "                for o in range(orientations-1):\n",
    "                    centre = tuple([y * cy + cy // 2, x * cx + cx // 2])\n",
    "                    dx = int(radius * cos(float(o) / orientations * np.pi))\n",
    "                    dy = int(radius * sin(float(o) / orientations * np.pi))\n",
    "                    rr, cc = draw.bresenham(centre[0] - dy, centre[1] - dx,\n",
    "                                            centre[0] + dy, centre[1] + dx)\n",
    "                    hof_image[rr, cc] += orientation_histogram[y, x, o]\n",
    "\n",
    "    \"\"\"\n",
    "    The fourth stage computes normalisation, which takes local groups of\n",
    "    cells and contrast normalises their overall responses before passing\n",
    "    to next stage. Normalisation introduces better invariance to illumination,\n",
    "    shadowing, and edge contrast. It is performed by accumulating a measure\n",
    "    of local histogram \"energy\" over local groups of cells that we call\n",
    "    \"blocks\". The result is used to normalise each cell in the block.\n",
    "    Typically each individual cell is shared between several blocks, but\n",
    "    its normalisations are block dependent and thus different. The cell\n",
    "    thus appears several times in the final output vector with different\n",
    "    normalisations. This may seem redundant but it improves the performance.\n",
    "    We refer to the normalised block descriptors as Histogram of Oriented\n",
    "    Gradient (hog) descriptors.\n",
    "    \"\"\"\n",
    "\n",
    "    n_blocksx = (n_cellsx - bx) + 1\n",
    "    n_blocksy = (n_cellsy - by) + 1\n",
    "    normalised_blocks = np.zeros((n_blocksy, n_blocksx,\n",
    "                                  by, bx, orientations))\n",
    "\n",
    "    for x in range(n_blocksx):\n",
    "        for y in range(n_blocksy):\n",
    "            block = orientation_histogram[y:y+by, x:x+bx, :]\n",
    "            eps = 1e-5\n",
    "            normalised_blocks[y, x, :] = block / sqrt(block.sum()**2 + eps)\n",
    "\n",
    "    \"\"\"\n",
    "    The final step collects the hof descriptors from all blocks of a dense\n",
    "    overlapping grid of blocks covering the detection window into a combined\n",
    "    feature vector for use in the window classifier.\n",
    "    \"\"\"\n",
    "\n",
    "    if visualise:\n",
    "        return normalised_blocks.ravel(), hof_image\n",
    "    else:\n",
    "        return normalised_blocks.ravel()"
   ]
  },
  {
   "cell_type": "code",
   "execution_count": 42,
   "metadata": {
    "collapsed": false
   },
   "outputs": [
    {
     "name": "stdout",
     "output_type": "stream",
     "text": [
      "(1800,)\n",
      "[ 0.  0.  0. ...,  0.  0.  0.]\n"
     ]
    }
   ],
   "source": [
    "hof_result = hof(flow, pixels_per_cell=(20,20), cells_per_block=(5,5))\n",
    "print hof_result.shape\n",
    "print hof_result"
   ]
  },
  {
   "cell_type": "code",
   "execution_count": 43,
   "metadata": {
    "collapsed": false,
    "scrolled": false
   },
   "outputs": [
    {
     "name": "stdout",
     "output_type": "stream",
     "text": [
      "nc: 232\n",
      "offset: 208\n",
      "train files: 416\n",
      "train labels: 416\n",
      "test files: 48\n",
      "test labels: 48\n"
     ]
    }
   ],
   "source": [
    "from sklearn import svm\n",
    "import os\n",
    "\n",
    "# Collect the file path of all the running and walking videos, we will only be using these 2 classes\n",
    "RUN_DIR = \"hof/run/\"\n",
    "RUN_FILES = os.listdir(RUN_DIR)\n",
    "RUN_FILES = [RUN_DIR + f for f in RUN_FILES]\n",
    "WALK_DIR = \"hof/walk/\"\n",
    "WALK_FILES = os.listdir(WALK_DIR)\n",
    "WALK_FILES = [WALK_DIR + f for f in WALK_FILES]\n",
    "\n",
    "# Use equal number of data from each class\n",
    "nc = min(len(RUN_FILES), len(WALK_FILES))\n",
    "print \"nc:\", nc\n",
    "RUN_FILES = RUN_FILES[0:nc]\n",
    "WALK_FILES = WALK_FILES[0:nc]\n",
    "\n",
    "RATIO = 0.9\n",
    "offset = int(np.floor(nc*RATIO))\n",
    "print \"offset:\", offset\n",
    "\n",
    "# Split test and training at a ratio of 1:9\n",
    "train_files = RUN_FILES[0:offset] + WALK_FILES[0:offset]\n",
    "test_files = RUN_FILES[offset:nc] + WALK_FILES[offset:nc]\n",
    "\n",
    "# Put the labels in vectors\n",
    "train_labels = np.zeros(offset*2, int)\n",
    "train_labels[0:offset] = 1 #RUN=1\n",
    "train_labels[offset:offset*2] = 2 #WALK=2\n",
    "\n",
    "test_len = nc-offset\n",
    "test_labels = np.zeros(test_len*2, int)\n",
    "test_labels[0:test_len] = 1 #RUN=1\n",
    "test_labels[test_len:test_len*2] = 2 #WALK=2\n",
    "\n",
    "print \"train files:\", len(train_files)\n",
    "print \"train labels:\", len(train_labels)\n",
    "print \"test files:\", len(test_files)\n",
    "print \"test labels:\", len(test_labels)"
   ]
  },
  {
   "cell_type": "code",
   "execution_count": 44,
   "metadata": {
    "collapsed": true
   },
   "outputs": [],
   "source": [
    "# Standardize the frames to gray-scale and equal dimensions\n",
    "\n",
    "FIXED_WIDTH = 160\n",
    "FIXED_HEIGHT = 120\n",
    "def normalizeFrame(frame_original):\n",
    "    frame_gray = cv2.cvtColor(frame_original,cv2.COLOR_BGR2GRAY)\n",
    "    frame_gray_resized = cv2.resize(frame_gray, (FIXED_WIDTH, FIXED_HEIGHT))\n",
    "    return frame_gray_resized"
   ]
  },
  {
   "cell_type": "code",
   "execution_count": 45,
   "metadata": {
    "collapsed": true
   },
   "outputs": [],
   "source": [
    "# get the Histogram of Optical Flow from two images\n",
    "def getHoF(frame1, frame2):\n",
    "    flow = getOpticalFlow(frame1, frame2)\n",
    "    return hof(flow, pixels_per_cell=(20,20), cells_per_block=(5,5))"
   ]
  },
  {
   "cell_type": "code",
   "execution_count": 46,
   "metadata": {
    "collapsed": true
   },
   "outputs": [],
   "source": [
    "# get the Histogram of Optical Flows of a video grouped sequentially in a 1D array\n",
    "def getSequentialHoF(video_path):\n",
    "    hofs = []\n",
    "    cap = cv2.VideoCapture(video_path)\n",
    "    ret1, frame1 = cap.read()\n",
    "    frame1 = normalizeFrame(frame1)\n",
    "    while(cap.isOpened()):\n",
    "        ret2, frame2 = cap.read()\n",
    "        if ret2 == True:\n",
    "            frame2 = normalizeFrame(frame2)\n",
    "            hof_array = getHoF(frame1, frame2)\n",
    "            hofs = np.concatenate((hofs, hof_array),axis=0)\n",
    "#             show2images(frame1, frame2)\n",
    "            frame1 = frame2\n",
    "        else:\n",
    "            break\n",
    "    return hofs"
   ]
  },
  {
   "cell_type": "markdown",
   "metadata": {},
   "source": [
    "Construct the training set and test set, which are arrays of sequential HoF for each video"
   ]
  },
  {
   "cell_type": "code",
   "execution_count": 47,
   "metadata": {
    "collapsed": false
   },
   "outputs": [],
   "source": [
    "train = [getSequentialHoF(p) for p in train_files]\n",
    "test = [getSequentialHoF(p) for p in test_files]"
   ]
  },
  {
   "cell_type": "markdown",
   "metadata": {},
   "source": [
    "### The problem is, the rows have varying lengths"
   ]
  },
  {
   "cell_type": "code",
   "execution_count": 48,
   "metadata": {
    "collapsed": false
   },
   "outputs": [
    {
     "name": "stdout",
     "output_type": "stream",
     "text": [
      "131400\n",
      "86400\n"
     ]
    }
   ],
   "source": [
    "print len(test[1])\n",
    "print len(test[2])"
   ]
  },
  {
   "cell_type": "markdown",
   "metadata": {},
   "source": [
    "We find the row with the largest length in training set and testing set"
   ]
  },
  {
   "cell_type": "code",
   "execution_count": 49,
   "metadata": {
    "collapsed": false
   },
   "outputs": [],
   "source": [
    "max_width = max(np.array([len(i) for i in train]).max(),np.array([len(i) for i in test]).max())"
   ]
  },
  {
   "cell_type": "markdown",
   "metadata": {},
   "source": [
    "This method pads each row of the 2D array, with 0, to a specified width."
   ]
  },
  {
   "cell_type": "code",
   "execution_count": 50,
   "metadata": {
    "collapsed": false
   },
   "outputs": [],
   "source": [
    "def numpy_fillna(data, width):\n",
    "    # Get lengths of each row of data\n",
    "    lens = np.array([len(i) for i in data])\n",
    "\n",
    "    # Mask of valid places in each row\n",
    "    mask = np.arange(width) < lens[:,None]\n",
    "\n",
    "    # Setup output array and put elements from data into masked positions\n",
    "    out = np.zeros(mask.shape, dtype=data.dtype)\n",
    "    out[mask] = np.concatenate(data)\n",
    "    return out"
   ]
  },
  {
   "cell_type": "markdown",
   "metadata": {},
   "source": [
    "We are changing every row length to the maximum row length in testing and training set"
   ]
  },
  {
   "cell_type": "code",
   "execution_count": 51,
   "metadata": {
    "collapsed": false
   },
   "outputs": [],
   "source": [
    "train_pad = numpy_fillna(np.array(train), max_width)\n",
    "test_pad = numpy_fillna(np.array(test), max_width)"
   ]
  },
  {
   "cell_type": "markdown",
   "metadata": {},
   "source": [
    "Create an SVM model"
   ]
  },
  {
   "cell_type": "code",
   "execution_count": 181,
   "metadata": {
    "collapsed": false
   },
   "outputs": [],
   "source": [
    "from sklearn import svm\n",
    "\n",
    "clf = svm.SVC()\n",
    "clf.fit(train_pad, train_labels)\n",
    "predict = clf.predict(test_pad)"
   ]
  },
  {
   "cell_type": "markdown",
   "metadata": {},
   "source": [
    "Get the accuracy of the SVM model"
   ]
  },
  {
   "cell_type": "code",
   "execution_count": 182,
   "metadata": {
    "collapsed": false,
    "scrolled": true
   },
   "outputs": [
    {
     "data": {
      "text/plain": [
       "0.60416666666666663"
      ]
     },
     "execution_count": 182,
     "metadata": {},
     "output_type": "execute_result"
    }
   ],
   "source": [
    "from sklearn import metrics\n",
    "metrics.accuracy_score(predict, test_labels)"
   ]
  },
  {
   "cell_type": "markdown",
   "metadata": {},
   "source": [
    "Decision Tree"
   ]
  },
  {
   "cell_type": "code",
   "execution_count": 184,
   "metadata": {
    "collapsed": false
   },
   "outputs": [
    {
     "data": {
      "text/plain": [
       "0.54166666666666663"
      ]
     },
     "execution_count": 184,
     "metadata": {},
     "output_type": "execute_result"
    }
   ],
   "source": [
    "from sklearn import tree\n",
    "tree_clf = tree.DecisionTreeClassifier()\n",
    "tree_clf.fit(train_pad, train_labels)\n",
    "predict = tree_clf.predict(test_pad)\n",
    "metrics.accuracy_score(predict, test_labels)"
   ]
  },
  {
   "cell_type": "markdown",
   "metadata": {},
   "source": [
    "Random Forest"
   ]
  },
  {
   "cell_type": "code",
   "execution_count": 186,
   "metadata": {
    "collapsed": false
   },
   "outputs": [
    {
     "data": {
      "text/plain": [
       "0.625"
      ]
     },
     "execution_count": 186,
     "metadata": {},
     "output_type": "execute_result"
    }
   ],
   "source": [
    "from sklearn import ensemble\n",
    "rf_clf = ensemble.RandomForestClassifier()\n",
    "rf_clf.fit(train_pad, train_labels)\n",
    "predict = rf_clf.predict(test_pad)\n",
    "metrics.accuracy_score(predict, test_labels)"
   ]
  },
  {
   "cell_type": "markdown",
   "metadata": {},
   "source": [
    "Logistic Regression"
   ]
  },
  {
   "cell_type": "code",
   "execution_count": 188,
   "metadata": {
    "collapsed": false
   },
   "outputs": [
    {
     "data": {
      "text/plain": [
       "0.5625"
      ]
     },
     "execution_count": 188,
     "metadata": {},
     "output_type": "execute_result"
    }
   ],
   "source": [
    "from sklearn import linear_model\n",
    "lr_clf = linear_model.LogisticRegression()\n",
    "lr_clf.fit(train_pad, train_labels)\n",
    "predict = lr_clf.predict(test_pad)\n",
    "metrics.accuracy_score(predict, test_labels)"
   ]
  },
  {
   "cell_type": "code",
   "execution_count": 55,
   "metadata": {
    "collapsed": true
   },
   "outputs": [],
   "source": [
    "#KNN DTW GITHUB METHODS\n",
    "\n",
    "class KnnDtw(object):\n",
    "    \"\"\"K-nearest neighbor classifier using dynamic time warping\n",
    "    as the distance measure between pairs of time series arrays\n",
    "    \n",
    "    Arguments\n",
    "    ---------\n",
    "    n_neighbors : int, optional (default = 5)\n",
    "        Number of neighbors to use by default for KNN\n",
    "        \n",
    "    max_warping_window : int, optional (default = infinity)\n",
    "        Maximum warping window allowed by the DTW dynamic\n",
    "        programming function\n",
    "            \n",
    "    subsample_step : int, optional (default = 1)\n",
    "        Step size for the timeseries array. By setting subsample_step = 2,\n",
    "        the timeseries length will be reduced by 50% because every second\n",
    "        item is skipped. Implemented by x[:, ::subsample_step]\n",
    "    \"\"\"\n",
    "    \n",
    "    def __init__(self, n_neighbors=5, max_warping_window=10000, subsample_step=1):\n",
    "        self.n_neighbors = n_neighbors\n",
    "        self.max_warping_window = max_warping_window\n",
    "        self.subsample_step = subsample_step\n",
    "    \n",
    "    def fit(self, x, l):\n",
    "        \"\"\"Fit the model using x as training data and l as class labels\n",
    "        \n",
    "        Arguments\n",
    "        ---------\n",
    "        x : array of shape [n_samples, n_timepoints]\n",
    "            Training data set for input into KNN classifer\n",
    "            \n",
    "        l : array of shape [n_samples]\n",
    "            Training labels for input into KNN classifier\n",
    "        \"\"\"\n",
    "        \n",
    "        self.x = x\n",
    "        self.l = l\n",
    "        \n",
    "    def _dtw_distance(self, ts_a, ts_b, d = lambda x,y: abs(x-y)):\n",
    "        \"\"\"Returns the DTW similarity distance between two 2-D\n",
    "        timeseries numpy arrays.\n",
    "\n",
    "        Arguments\n",
    "        ---------\n",
    "        ts_a, ts_b : array of shape [n_samples, n_timepoints]\n",
    "            Two arrays containing n_samples of timeseries data\n",
    "            whose DTW distance between each sample of A and B\n",
    "            will be compared\n",
    "        \n",
    "        d : DistanceMetric object (default = abs(x-y))\n",
    "            the distance measure used for A_i - B_j in the\n",
    "            DTW dynamic programming function\n",
    "        \n",
    "        Returns\n",
    "        -------\n",
    "        DTW distance between A and B\n",
    "        \"\"\"\n",
    "\n",
    "        # Create cost matrix via broadcasting with large int\n",
    "        ts_a, ts_b = np.array(ts_a), np.array(ts_b)\n",
    "        M, N = len(ts_a), len(ts_b)\n",
    "        cost = sys.maxint * np.ones((M, N))\n",
    "\n",
    "        # Initialize the first row and column\n",
    "        cost[0, 0] = d(ts_a[0], ts_b[0])\n",
    "        for i in xrange(1, M):\n",
    "            cost[i, 0] = cost[i-1, 0] + d(ts_a[i], ts_b[0])\n",
    "\n",
    "        for j in xrange(1, N):\n",
    "            cost[0, j] = cost[0, j-1] + d(ts_a[0], ts_b[j])\n",
    "\n",
    "        # Populate rest of cost matrix within window\n",
    "        for i in xrange(1, M):\n",
    "            for j in xrange(max(1, i - self.max_warping_window),\n",
    "                            min(N, i + self.max_warping_window)):\n",
    "                choices = cost[i - 1, j - 1], cost[i, j-1], cost[i-1, j]\n",
    "                cost[i, j] = min(choices) + d(ts_a[i], ts_b[j])\n",
    "\n",
    "        # Return DTW distance given window \n",
    "        return cost[-1, -1]\n",
    "    \n",
    "    def _dist_matrix(self, x, y):\n",
    "        \"\"\"Computes the M x N distance matrix between the training\n",
    "        dataset and testing dataset (y) using the DTW distance measure\n",
    "        \n",
    "        Arguments\n",
    "        ---------\n",
    "        x : array of shape [n_samples, n_timepoints]\n",
    "        \n",
    "        y : array of shape [n_samples, n_timepoints]\n",
    "        \n",
    "        Returns\n",
    "        -------\n",
    "        Distance matrix between each item of x and y with\n",
    "            shape [training_n_samples, testing_n_samples]\n",
    "        \"\"\"\n",
    "        \n",
    "        # Compute the distance matrix        \n",
    "        dm_count = 0\n",
    "        \n",
    "        # Compute condensed distance matrix (upper triangle) of pairwise dtw distances\n",
    "        # when x and y are the same array\n",
    "        if(np.array_equal(x, y)):\n",
    "            x_s = shape(x)\n",
    "            dm = np.zeros((x_s[0] * (x_s[0] - 1)) // 2, dtype=np.double)\n",
    "            \n",
    "          \n",
    "            \n",
    "            for i in xrange(0, x_s[0] - 1):\n",
    "                for j in xrange(i + 1, x_s[0]):\n",
    "                    dm[dm_count] = self._dtw_distance(x[i, ::self.subsample_step],\n",
    "                                                      y[j, ::self.subsample_step])\n",
    "                    \n",
    "                    dm_count += 1\n",
    "            \n",
    "            # Convert to squareform\n",
    "            dm = squareform(dm)\n",
    "            return dm\n",
    "        \n",
    "        # Compute full distance matrix of dtw distnces between x and y\n",
    "        else:\n",
    "            x_s = np.shape(x)\n",
    "            y_s = np.shape(y)\n",
    "            dm = np.zeros((x_s[0], y_s[0])) \n",
    "            dm_size = x_s[0]*y_s[0]\n",
    "            \n",
    "           \n",
    "        \n",
    "            for i in xrange(0, x_s[0]):\n",
    "                for j in xrange(0, y_s[0]):\n",
    "                    dm[i, j] = self._dtw_distance(x[i, ::self.subsample_step],\n",
    "                                                  y[j, ::self.subsample_step])\n",
    "                    # Update progress bar\n",
    "                    dm_count += 1\n",
    "        \n",
    "            return dm\n",
    "        \n",
    "    def predict(self, x):\n",
    "        \"\"\"Predict the class labels or probability estimates for \n",
    "        the provided data\n",
    "\n",
    "        Arguments\n",
    "        ---------\n",
    "          x : array of shape [n_samples, n_timepoints]\n",
    "              Array containing the testing data set to be classified\n",
    "          \n",
    "        Returns\n",
    "        -------\n",
    "          2 arrays representing:\n",
    "              (1) the predicted class labels \n",
    "              (2) the knn label count probability\n",
    "        \"\"\"\n",
    "        \n",
    "        dm = self._dist_matrix(x, self.x)\n",
    "\n",
    "        # Identify the k nearest neighbors\n",
    "        knn_idx = dm.argsort()[:, :self.n_neighbors]\n",
    "\n",
    "        # Identify k nearest labels\n",
    "        knn_labels = self.l[knn_idx]\n",
    "        \n",
    "        # Model Label\n",
    "        mode_data = mode(knn_labels, axis=1)\n",
    "        mode_label = mode_data[0]\n",
    "        mode_proba = mode_data[1]/self.n_neighbors\n",
    "\n",
    "        return mode_label.ravel(), mode_proba.ravel()"
   ]
  },
  {
   "cell_type": "code",
   "execution_count": 59,
   "metadata": {
    "collapsed": false
   },
   "outputs": [
    {
     "name": "stdout",
     "output_type": "stream",
     "text": [
      "[array([ 0.00233737,  0.0009237 ,  0.0014669 , ...,  0.        ,\n",
      "        0.        ,  0.01265291]), array([ 0.        ,  0.        ,  0.        , ...,  0.03793614,\n",
      "        0.        ,  0.47327111]), array([ 0.        ,  0.        ,  0.        , ...,  0.03455082,\n",
      "        0.02059288,  0.4210129 ]), array([ 0.        ,  0.        ,  0.        , ...,  0.        ,\n",
      "        0.        ,  0.43743062]), array([ 0.        ,  0.        ,  0.        , ...,  0.        ,\n",
      "        0.        ,  0.10473578]), array([ 0.        ,  0.        ,  0.        , ...,  0.        ,\n",
      "        0.        ,  0.07642964]), array([ 0.00121717,  0.00123289,  0.00666754, ...,  0.        ,\n",
      "        0.        ,  0.21328463]), array([  0.00000000e+00,   1.41414679e-02,   2.98593448e-02, ...,\n",
      "         0.00000000e+00,   3.39691726e-18,   1.03740083e-01]), array([ 0.        ,  0.        ,  0.        , ...,  0.        ,\n",
      "        0.        ,  0.00495456]), array([ 0.00108491,  0.00014608,  0.        , ...,  0.        ,\n",
      "        0.        ,  0.00301823]), array([ 0.        ,  0.        ,  0.        , ...,  0.        ,\n",
      "        0.        ,  0.14335854]), array([ 0.        ,  0.        ,  0.        , ...,  0.        ,\n",
      "        0.        ,  0.02021644]), array([ 0.        ,  0.        ,  0.        , ...,  0.        ,\n",
      "        0.        ,  0.05518395]), array([ 0.0083227 ,  0.01328155,  0.00373555, ...,  0.        ,\n",
      "        0.        ,  0.17214217]), array([ 0.00353637,  0.00261578,  0.00343453, ...,  0.        ,\n",
      "        0.        ,  0.18265892]), array([ 0.        ,  0.        ,  0.        , ...,  0.        ,\n",
      "        0.        ,  0.20658968]), array([ 0.        ,  0.        ,  0.        , ...,  0.        ,\n",
      "        0.        ,  0.00410176]), array([ 0.        ,  0.        ,  0.        , ...,  0.        ,\n",
      "        0.        ,  0.30650826]), array([  4.26706757e-05,   2.51109488e-04,   3.70384941e-04, ...,\n",
      "         0.00000000e+00,   0.00000000e+00,   1.75150478e-01]), array([ 0.        ,  0.        ,  0.        , ...,  0.        ,\n",
      "        0.        ,  0.13604846]), array([ 0.04039034,  0.00482686,  0.00212964, ...,  0.        ,\n",
      "        0.        ,  0.14201212]), array([ 0.        ,  0.        ,  0.        , ...,  0.        ,\n",
      "        0.        ,  0.03676931]), array([  0.00000000e+00,   0.00000000e+00,   0.00000000e+00, ...,\n",
      "         0.00000000e+00,   5.69131792e-18,   4.03465244e-02]), array([ 0.        ,  0.        ,  0.        , ...,  0.        ,\n",
      "        0.        ,  0.01292161]), array([ 0.        ,  0.        ,  0.00926899, ...,  0.        ,\n",
      "        0.        ,  0.02497497]), array([ 0.        ,  0.        ,  0.        , ...,  0.        ,\n",
      "        0.        ,  0.17552795]), array([ 0.        ,  0.        ,  0.        , ...,  0.        ,\n",
      "        0.        ,  0.02012106]), array([ 0.        ,  0.        ,  0.        , ...,  0.        ,\n",
      "        0.        ,  0.01263775]), array([ 0.        ,  0.        ,  0.        , ...,  0.        ,\n",
      "        0.        ,  0.03043404]), array([ 0.        ,  0.        ,  0.        , ...,  0.        ,\n",
      "        0.        ,  0.04291317]), array([ 0.00587801,  0.00703608,  0.00541262, ...,  0.        ,\n",
      "        0.        ,  0.43786286]), array([ 0.        ,  0.        ,  0.        , ...,  0.        ,\n",
      "        0.        ,  0.00454127]), array([ 0.        ,  0.        ,  0.00066128, ...,  0.        ,\n",
      "        0.        ,  0.001033  ]), array([  7.96355491e-04,   0.00000000e+00,   0.00000000e+00, ...,\n",
      "         0.00000000e+00,  -2.70787856e-18,   1.32042948e-01]), array([  1.52257287e-04,   1.00622500e-03,   1.14444364e-04, ...,\n",
      "         0.00000000e+00,  -4.87907334e-18,   9.68466477e-02]), array([  0.00000000e+00,   0.00000000e+00,   3.18785093e-05, ...,\n",
      "         0.00000000e+00,   0.00000000e+00,   1.97475221e-01]), array([ 0.00028586,  0.0013566 ,  0.00086815, ...,  0.        ,\n",
      "        0.        ,  0.19124961]), array([  0.00000000e+00,   0.00000000e+00,   0.00000000e+00, ...,\n",
      "         0.00000000e+00,  -2.11678140e-18,   1.51027840e-01]), array([ 0.01224638,  0.        ,  0.        , ...,  0.        ,\n",
      "        0.        ,  0.09939498]), array([  0.00000000e+00,   0.00000000e+00,   0.00000000e+00, ...,\n",
      "         0.00000000e+00,   0.00000000e+00,   2.78646774e-05]), array([  3.28424109e-03,   0.00000000e+00,   0.00000000e+00, ...,\n",
      "         0.00000000e+00,  -1.44848909e-17,   1.20542021e-01]), array([ 0.        ,  0.        ,  0.        , ...,  0.        ,\n",
      "        0.        ,  0.15844291]), array([  3.58970471e-03,   5.90669213e-04,   1.14101658e-04, ...,\n",
      "         0.00000000e+00,   0.00000000e+00,   1.79375567e-01]), array([ 0.        ,  0.        ,  0.        , ...,  0.        ,\n",
      "        0.        ,  0.08357177]), array([ 0.        ,  0.        ,  0.        , ...,  0.        ,\n",
      "        0.        ,  0.10723403]), array([ 0.003991  ,  0.        ,  0.        , ...,  0.        ,\n",
      "        0.        ,  0.03697326]), array([ 0.        ,  0.        ,  0.        , ...,  0.        ,\n",
      "        0.        ,  0.09226135]), array([ 0.        ,  0.        ,  0.        , ...,  0.        ,\n",
      "        0.        ,  0.04216419]), array([  0.00000000e+00,   2.37126983e-04,   5.26151371e-03, ...,\n",
      "         0.00000000e+00,   0.00000000e+00,   3.49426804e-01]), array([ 0.00025205,  0.00043056,  0.00056639, ...,  0.        ,\n",
      "        0.        ,  0.22406057]), array([ 0.        ,  0.        ,  0.        , ...,  0.        ,\n",
      "        0.        ,  0.33300544]), array([ 0.        ,  0.        ,  0.        , ...,  0.        ,\n",
      "        0.        ,  0.12809572]), array([ 0.        ,  0.        ,  0.        , ...,  0.        ,\n",
      "        0.        ,  0.00366896]), array([ 0.00070541,  0.0002246 ,  0.00027206, ...,  0.        ,\n",
      "        0.        ,  0.0107648 ]), array([ 0.        ,  0.        ,  0.        , ...,  0.        ,\n",
      "        0.        ,  0.08760828]), array([  0.00000000e+00,   0.00000000e+00,   0.00000000e+00, ...,\n",
      "         0.00000000e+00,   9.16858415e-18,   3.65352605e-04]), array([ 0.        ,  0.        ,  0.        , ...,  0.        ,\n",
      "        0.        ,  0.00392937]), array([ 0.        ,  0.        ,  0.        , ...,  0.        ,\n",
      "        0.        ,  0.13069302]), array([ 0.       ,  0.       ,  0.       , ...,  0.       ,  0.       ,\n",
      "        0.0684889]), array([ 0.00013267,  0.        ,  0.00032443, ...,  0.        ,\n",
      "        0.        ,  0.08835873]), array([  8.20009701e-05,   0.00000000e+00,   0.00000000e+00, ...,\n",
      "         0.00000000e+00,   0.00000000e+00,   1.54984347e-01]), array([ 0.00107601,  0.0030284 ,  0.005796  , ...,  0.        ,\n",
      "        0.        ,  0.30529627]), array([ 0.        ,  0.        ,  0.        , ...,  0.        ,\n",
      "        0.        ,  0.21486075]), array([ 0.        ,  0.        ,  0.        , ...,  0.        ,\n",
      "        0.        ,  0.29399317]), array([ 0.        ,  0.        ,  0.        , ...,  0.        ,\n",
      "        0.        ,  0.11341055]), array([  0.00000000e+00,   0.00000000e+00,   0.00000000e+00, ...,\n",
      "         0.00000000e+00,   0.00000000e+00,   5.35871344e-05]), array([ 0.        ,  0.        ,  0.        , ...,  0.        ,\n",
      "        0.        ,  0.11904892]), array([ 0.        ,  0.        ,  0.        , ...,  0.        ,\n",
      "        0.        ,  0.12319515]), array([ 0.        ,  0.        ,  0.        , ...,  0.        ,\n",
      "        0.        ,  0.21815736]), array([ 0.        ,  0.        ,  0.00034161, ...,  0.        ,\n",
      "        0.        ,  0.15045534]), array([ 0.00318995,  0.        ,  0.        , ...,  0.        ,\n",
      "        0.        ,  0.1121825 ]), array([ 0.00244875,  0.        ,  0.        , ...,  0.        ,\n",
      "        0.        ,  0.15577356]), array([  0.00000000e+00,   0.00000000e+00,   0.00000000e+00, ...,\n",
      "         0.00000000e+00,  -6.34826224e-18,   1.16953696e-01]), array([ 0.0016345 ,  0.        ,  0.        , ...,  0.        ,\n",
      "        0.        ,  0.05875125]), array([ 0.01291384,  0.        ,  0.        , ...,  0.        ,\n",
      "        0.        ,  0.01375808]), array([ 0.        ,  0.        ,  0.        , ...,  0.        ,\n",
      "        0.        ,  0.00046847]), array([ 0.        ,  0.        ,  0.        , ...,  0.        ,\n",
      "        0.        ,  0.32136059]), array([ 0.00010951,  0.00017673,  0.00114031, ...,  0.        ,\n",
      "        0.        ,  0.072956  ]), array([ 0.00053111,  0.        ,  0.        , ...,  0.        ,\n",
      "        0.        ,  0.0548015 ]), array([ 0.        ,  0.        ,  0.        , ...,  0.        ,\n",
      "        0.        ,  0.08635199]), array([ 0.        ,  0.        ,  0.        , ...,  0.        ,\n",
      "        0.        ,  0.05165865]), array([ 0.        ,  0.        ,  0.        , ...,  0.        ,\n",
      "        0.        ,  0.22145379]), array([ 0.        ,  0.        ,  0.        , ...,  0.        ,\n",
      "        0.        ,  0.06553109]), array([ 0.        ,  0.        ,  0.        , ...,  0.        ,\n",
      "        0.        ,  0.20238843]), array([ 0.        ,  0.        ,  0.        , ...,  0.        ,\n",
      "        0.        ,  0.18209344]), array([ 0.        ,  0.        ,  0.        , ...,  0.        ,\n",
      "        0.        ,  0.00826718]), array([ 0.        ,  0.        ,  0.        , ...,  0.        ,\n",
      "        0.        ,  0.04016871]), array([ 0.00069178,  0.00019413,  0.        , ...,  0.        ,\n",
      "        0.        ,  0.137321  ]), array([ 0.00457842,  0.        ,  0.        , ...,  0.        ,\n",
      "        0.        ,  0.10493565]), array([ 0.       ,  0.       ,  0.       , ...,  0.       ,  0.       ,\n",
      "        0.2282615]), array([ 0.        ,  0.        ,  0.        , ...,  0.        ,\n",
      "        0.        ,  0.10453867]), array([ 0.        ,  0.        ,  0.        , ...,  0.        ,\n",
      "        0.        ,  0.15889707]), array([ 0.        ,  0.        ,  0.        , ...,  0.        ,\n",
      "        0.        ,  0.23985863]), array([ 0.        ,  0.00040286,  0.        , ...,  0.        ,\n",
      "        0.        ,  0.03541406]), array([ 0.00784978,  0.00249141,  0.00984604, ...,  0.        ,\n",
      "        0.        ,  0.16171616]), array([ 0.        ,  0.        ,  0.        , ...,  0.        ,\n",
      "        0.        ,  0.04991492]), array([ 0.        ,  0.        ,  0.        , ...,  0.        ,\n",
      "        0.        ,  0.02167139]), array([ 0.        ,  0.        ,  0.        , ...,  0.        ,\n",
      "        0.        ,  0.00199037]), array([ 0.        ,  0.        ,  0.00037898, ...,  0.        ,\n",
      "        0.        ,  0.08985314]), array([ 0.        ,  0.        ,  0.        , ...,  0.        ,\n",
      "        0.        ,  0.02471005]), array([ 0.00164826,  0.00387912,  0.00876549, ...,  0.        ,\n",
      "        0.        ,  0.47194077]), array([ 0.        ,  0.        ,  0.000102  , ...,  0.        ,\n",
      "        0.        ,  0.06711798]), array([ 0.0018344 ,  0.00201378,  0.0045857 , ...,  0.        ,\n",
      "        0.        ,  0.00545189]), array([ 0.00180842,  0.00177912,  0.00088053, ...,  0.        ,\n",
      "        0.        ,  0.05967786]), array([ 0.00341672,  0.00181473,  0.00372628, ...,  0.        ,\n",
      "        0.        ,  0.21149763]), array([ 0.00915452,  0.00664003,  0.0016176 , ...,  0.        ,\n",
      "        0.        ,  0.00150597]), array([ 0.        ,  0.        ,  0.        , ...,  0.        ,\n",
      "        0.        ,  0.00985793]), array([ 0.        ,  0.        ,  0.        , ...,  0.        ,\n",
      "        0.        ,  0.00203753]), array([ 0.       ,  0.       ,  0.       , ...,  0.       ,  0.       ,\n",
      "        0.0885297]), array([ 0.00128494,  0.00182388,  0.00337108, ...,  0.        ,\n",
      "        0.        ,  0.0004747 ]), array([ 0.        ,  0.        ,  0.        , ...,  0.        ,\n",
      "        0.        ,  0.00072345]), array([ 0.00020023,  0.00083713,  0.00152898, ...,  0.        ,\n",
      "        0.        ,  0.00117892]), array([ 0.       ,  0.       ,  0.       , ...,  0.       ,  0.       ,\n",
      "        0.0056791]), array([ 0.        ,  0.        ,  0.        , ...,  0.        ,\n",
      "        0.        ,  0.24808121]), array([ 0.        ,  0.00091368,  0.0012811 , ...,  0.        ,\n",
      "        0.        ,  0.09423973]), array([ 0.        ,  0.        ,  0.        , ...,  0.        ,\n",
      "        0.        ,  0.17687943]), array([ 0.07749651,  0.00247619,  0.00210883, ...,  0.        ,\n",
      "        0.        ,  0.18600438]), array([  3.90120467e-04,   0.00000000e+00,   3.62241990e-05, ...,\n",
      "         0.00000000e+00,   0.00000000e+00,   9.35950136e-03]), array([ 0.        ,  0.        ,  0.00026257, ...,  0.        ,\n",
      "        0.        ,  0.0056959 ]), array([ 0.        ,  0.        ,  0.        , ...,  0.        ,\n",
      "        0.        ,  0.01081878]), array([ 0.        ,  0.        ,  0.        , ...,  0.        ,\n",
      "        0.        ,  0.48745293]), array([ 0.        ,  0.        ,  0.        , ...,  0.        ,\n",
      "        0.        ,  0.11437414]), array([ 0.        ,  0.        ,  0.        , ...,  0.        ,\n",
      "        0.        ,  0.06511538]), array([ 0.        ,  0.        ,  0.        , ...,  0.        ,\n",
      "        0.        ,  0.09982728]), array([ 0.00126525,  0.00149622,  0.0034056 , ...,  0.        ,\n",
      "        0.        ,  0.07005154]), array([  6.30052363e-05,   0.00000000e+00,   1.24768727e-04, ...,\n",
      "         0.00000000e+00,   0.00000000e+00,   1.51149435e-01]), array([ 0.        ,  0.        ,  0.        , ...,  0.        ,\n",
      "        0.        ,  0.31700305]), array([ 0.        ,  0.        ,  0.        , ...,  0.        ,\n",
      "        0.        ,  0.16654196]), array([ 0.        ,  0.        ,  0.        , ...,  0.        ,\n",
      "        0.        ,  0.04472744]), array([ 0.        ,  0.        ,  0.        , ...,  0.        ,\n",
      "        0.        ,  0.11481851]), array([  1.57733519e-01,   8.39903255e-05,   0.00000000e+00, ...,\n",
      "         0.00000000e+00,   0.00000000e+00,   4.14496507e-02]), array([ 0.        ,  0.        ,  0.        , ...,  0.        ,\n",
      "        0.        ,  0.13947195]), array([ 0.        ,  0.        ,  0.        , ...,  0.        ,\n",
      "        0.        ,  0.08486487]), array([ 0.04609992,  0.        ,  0.        , ...,  0.        ,\n",
      "        0.        ,  0.10953474]), array([ 0.        ,  0.        ,  0.        , ...,  0.        ,\n",
      "        0.        ,  0.17599197]), array([ 0.        ,  0.        ,  0.        , ...,  0.        ,\n",
      "        0.        ,  0.05218309]), array([  0.00000000e+00,   0.00000000e+00,   6.62693574e-05, ...,\n",
      "         0.00000000e+00,   0.00000000e+00,   1.09514246e-01]), array([ 0.       ,  0.       ,  0.       , ...,  0.       ,  0.       ,\n",
      "        0.0922021]), array([ 0.        ,  0.        ,  0.        , ...,  0.        ,\n",
      "        0.        ,  0.16695387]), array([  0.00000000e+00,   7.91381367e-05,   7.50473697e-05, ...,\n",
      "         0.00000000e+00,   0.00000000e+00,   1.77843625e-01]), array([ 0.01917391,  0.        ,  0.        , ...,  0.        ,\n",
      "        0.        ,  0.15790861]), array([ 0.        ,  0.        ,  0.        , ...,  0.        ,\n",
      "        0.        ,  0.25011452]), array([ 0.00613839,  0.        ,  0.        , ...,  0.        ,\n",
      "        0.        ,  0.226728  ]), array([ 0.        ,  0.        ,  0.        , ...,  0.        ,\n",
      "        0.        ,  0.10836823]), array([ 0.        ,  0.        ,  0.        , ...,  0.        ,\n",
      "        0.        ,  0.00318784]), array([ 0.        ,  0.        ,  0.        , ...,  0.        ,\n",
      "        0.        ,  0.14688605]), array([  1.05507253e-04,   8.20366448e-05,   9.45322962e-05, ...,\n",
      "         0.00000000e+00,   0.00000000e+00,   1.18506262e-01]), array([ 0.        ,  0.        ,  0.        , ...,  0.        ,\n",
      "        0.        ,  0.15783378]), array([ 0.        ,  0.        ,  0.        , ...,  0.        ,\n",
      "        0.        ,  0.00650194]), array([ 0.        ,  0.00022918,  0.00479753, ...,  0.        ,\n",
      "        0.        ,  0.03769097]), array([  0.00000000e+00,   0.00000000e+00,   0.00000000e+00, ...,\n",
      "         0.00000000e+00,   3.97553794e-18,   1.87318265e-01]), array([ 0.        ,  0.        ,  0.        , ...,  0.        ,\n",
      "        0.        ,  0.04932328]), array([ 0.        ,  0.        ,  0.        , ...,  0.        ,\n",
      "        0.        ,  0.10457308]), array([ 0.        ,  0.        ,  0.        , ...,  0.        ,\n",
      "        0.        ,  0.13497918]), array([ 0.        ,  0.        ,  0.        , ...,  0.        ,\n",
      "        0.        ,  0.24056864]), array([ 0.        ,  0.        ,  0.        , ...,  0.        ,\n",
      "        0.        ,  0.66955162]), array([ 0.        ,  0.        ,  0.        , ...,  0.        ,\n",
      "        0.        ,  0.17894269]), array([ 0.        ,  0.        ,  0.        , ...,  0.        ,\n",
      "        0.        ,  0.03189054]), array([ 0.        ,  0.        ,  0.        , ...,  0.        ,\n",
      "        0.        ,  0.41143749]), array([ 0.        ,  0.        ,  0.        , ...,  0.        ,\n",
      "        0.        ,  0.06346495]), array([ 0.        ,  0.        ,  0.        , ...,  0.        ,\n",
      "        0.        ,  0.34478123]), array([ 0.        ,  0.        ,  0.        , ...,  0.        ,\n",
      "        0.        ,  0.19047006]), array([ 0.        ,  0.        ,  0.        , ...,  0.        ,\n",
      "        0.        ,  0.02610958]), array([ 0.        ,  0.        ,  0.        , ...,  0.        ,\n",
      "        0.        ,  0.13517961]), array([  0.00000000e+00,   0.00000000e+00,   0.00000000e+00, ...,\n",
      "         0.00000000e+00,   0.00000000e+00,   8.97566280e-05]), array([ 0.        ,  0.        ,  0.        , ...,  0.        ,\n",
      "        0.        ,  0.02535401]), array([ 0.00177041,  0.03419676,  0.00556952, ...,  0.        ,\n",
      "        0.        ,  0.05085691]), array([ 0.03668457,  0.00147725,  0.        , ...,  0.        ,\n",
      "        0.        ,  0.09353339]), array([  0.00000000e+00,   0.00000000e+00,   0.00000000e+00, ...,\n",
      "         0.00000000e+00,   0.00000000e+00,   1.44964377e-05]), array([ 0.        ,  0.        ,  0.        , ...,  0.        ,\n",
      "        0.        ,  0.17011986]), array([ 0.        ,  0.00897914,  0.00905904, ...,  0.        ,\n",
      "        0.        ,  0.00019722]), array([ 0.        ,  0.        ,  0.        , ...,  0.        ,\n",
      "        0.        ,  0.07482405]), array([ 0.00012705,  0.        ,  0.        , ...,  0.        ,\n",
      "        0.        ,  0.00140492]), array([ 0.        ,  0.        ,  0.        , ...,  0.        ,\n",
      "        0.        ,  0.00085621]), array([ 0.        ,  0.        ,  0.        , ...,  0.        ,\n",
      "        0.        ,  0.27400058]), array([ 0.00493956,  0.        ,  0.00118307, ...,  0.        ,\n",
      "        0.        ,  0.00676579]), array([ 0.        ,  0.        ,  0.        , ...,  0.        ,\n",
      "        0.        ,  0.31501229]), array([ 0.        ,  0.00149765,  0.00569431, ...,  0.        ,\n",
      "        0.        ,  0.27652556]), array([  0.00000000e+00,   0.00000000e+00,   0.00000000e+00, ...,\n",
      "         0.00000000e+00,   0.00000000e+00,   3.45596680e-05]), array([ 0.00216525,  0.00065184,  0.00216203, ...,  0.        ,\n",
      "        0.        ,  0.10959194]), array([ 0.        ,  0.        ,  0.        , ...,  0.        ,\n",
      "        0.        ,  0.00346952]), array([ 0.      ,  0.      ,  0.      , ...,  0.      ,  0.      ,\n",
      "        0.053016]), array([ 0.        ,  0.        ,  0.        , ...,  0.        ,\n",
      "        0.        ,  0.05853309]), array([ 0.        ,  0.        ,  0.        , ...,  0.        ,\n",
      "        0.        ,  0.31978397]), array([ 0.        ,  0.00280212,  0.00042257, ...,  0.        ,\n",
      "        0.        ,  0.00304937]), array([ 0.00024393,  0.00012858,  0.00112581, ...,  0.        ,\n",
      "        0.        ,  0.06384218]), array([  0.00000000e+00,   0.00000000e+00,   0.00000000e+00, ...,\n",
      "         2.00095476e-18,   0.00000000e+00,   2.81494325e-01]), array([ 0.00159663,  0.00353381,  0.0318363 , ...,  0.        ,\n",
      "        0.        ,  0.0135793 ]), array([ 0.00106339,  0.        ,  0.        , ...,  0.        ,\n",
      "        0.        ,  0.14445472]), array([ 0.        ,  0.        ,  0.        , ...,  0.02063656,\n",
      "        0.        ,  0.20945687]), array([  1.11432249e-04,   0.00000000e+00,   0.00000000e+00, ...,\n",
      "         0.00000000e+00,   0.00000000e+00,   2.41101356e-01]), array([ 0.00015563,  0.        ,  0.        , ...,  0.        ,\n",
      "        0.        ,  0.0158811 ]), array([ 0.        ,  0.        ,  0.        , ...,  0.        ,\n",
      "        0.        ,  0.54350396]), array([ 0.01938312,  0.00118121,  0.        , ...,  0.        ,\n",
      "        0.        ,  0.25246115]), array([ 0.       ,  0.       ,  0.       , ...,  0.       ,  0.       ,\n",
      "        0.0594997]), array([  2.15060644e-02,   5.03217994e-03,   9.95796567e-05, ...,\n",
      "         0.00000000e+00,   0.00000000e+00,   2.67389828e-01]), array([  0.00000000e+00,   0.00000000e+00,   0.00000000e+00, ...,\n",
      "         0.00000000e+00,   7.92777839e-18,   2.45465657e-01]), array([ 0.0483642 ,  0.0016298 ,  0.00426992, ...,  0.        ,\n",
      "        0.        ,  0.00650292]), array([ 0.        ,  0.        ,  0.        , ...,  0.        ,\n",
      "        0.        ,  0.03892361]), array([  1.48342547e-02,   7.43855233e-03,   5.04713647e-03, ...,\n",
      "         0.00000000e+00,   1.47151158e-18,   1.53686689e-01]), array([ 0.        ,  0.        ,  0.        , ...,  0.        ,\n",
      "        0.        ,  0.02107858]), array([  0.00000000e+00,   0.00000000e+00,   0.00000000e+00, ...,\n",
      "        -1.42674009e-18,   0.00000000e+00,   1.26603084e-01]), array([ 0.00091744,  0.        ,  0.        , ...,  0.        ,\n",
      "        0.        ,  0.12833435]), array([ 0.        ,  0.        ,  0.        , ...,  0.        ,\n",
      "        0.        ,  0.09593422]), array([ 0.        ,  0.        ,  0.        , ...,  0.        ,\n",
      "        0.        ,  0.14288247]), array([ 0.01216716,  0.        ,  0.        , ...,  0.        ,\n",
      "        0.        ,  0.23293822]), array([ 0.        ,  0.        ,  0.        , ...,  0.        ,\n",
      "        0.        ,  0.05200397]), array([ 0.        ,  0.        ,  0.        , ...,  0.        ,\n",
      "        0.        ,  0.09578032]), array([  0.00000000e+00,   0.00000000e+00,   0.00000000e+00, ...,\n",
      "         0.00000000e+00,   9.14700671e-18,   1.05061605e-01]), array([ 0.00047879,  0.00022491,  0.00023524, ...,  0.        ,\n",
      "        0.        ,  0.22485232]), array([  0.00000000e+00,   0.00000000e+00,   1.80244219e-03, ...,\n",
      "         0.00000000e+00,   0.00000000e+00,   6.82204491e-05]), array([ 0.03109519,  0.00492212,  0.00996928, ...,  0.        ,\n",
      "        0.        ,  0.00804343]), array([ 0.       ,  0.       ,  0.       , ...,  0.       ,  0.       ,\n",
      "        0.0266776]), array([ 0.        ,  0.        ,  0.        , ...,  0.        ,\n",
      "        0.        ,  0.14490764]), array([ 0.0002578 ,  0.        ,  0.        , ...,  0.        ,\n",
      "        0.        ,  0.07543156]), array([  0.00000000e+00,   0.00000000e+00,   0.00000000e+00, ...,\n",
      "         0.00000000e+00,  -2.83329888e-18,   8.15502023e-03]), array([  0.00000000e+00,   0.00000000e+00,   0.00000000e+00, ...,\n",
      "         0.00000000e+00,   0.00000000e+00,  -6.41307073e-17]), array([ 0.        ,  0.        ,  0.        , ...,  0.        ,\n",
      "        0.        ,  0.05025091]), array([ 0.        ,  0.        ,  0.        , ...,  0.04377151,\n",
      "        0.        ,  0.16924116]), array([ 0.        ,  0.        ,  0.        , ...,  0.        ,\n",
      "        0.        ,  0.13236607]), array([ 0.        ,  0.        ,  0.        , ...,  0.        ,\n",
      "        0.        ,  0.00926921]), array([ 0.00100967,  0.00082675,  0.00320598, ...,  0.        ,\n",
      "        0.        ,  0.00598204]), array([ 0.        ,  0.        ,  0.        , ...,  0.        ,\n",
      "        0.        ,  0.08348599]), array([ 0.        ,  0.        ,  0.        , ...,  0.        ,\n",
      "        0.        ,  0.00420655]), array([ 0.        ,  0.        ,  0.        , ...,  0.        ,\n",
      "        0.        ,  0.32439822]), array([ 0.        ,  0.        ,  0.        , ...,  0.        ,\n",
      "        0.        ,  0.08319065]), array([ 0.        ,  0.        ,  0.        , ...,  0.        ,\n",
      "        0.        ,  0.00056339]), array([ 0.        ,  0.        ,  0.00015924, ...,  0.        ,\n",
      "        0.        ,  0.08991965]), array([ 0.        ,  0.        ,  0.        , ...,  0.        ,\n",
      "        0.        ,  0.07478955]), array([ 0.00088866,  0.00018317,  0.        , ...,  0.        ,\n",
      "        0.        ,  0.1651273 ]), array([ 0.       ,  0.       ,  0.       , ...,  0.       ,  0.       ,\n",
      "        0.1036427]), array([  0.00000000e+00,   0.00000000e+00,   0.00000000e+00, ...,\n",
      "         5.02360605e-18,   0.00000000e+00,   4.01332858e-02]), array([ 0.        ,  0.        ,  0.        , ...,  0.        ,\n",
      "        0.        ,  0.09303894]), array([ 0.        ,  0.        ,  0.        , ...,  0.        ,\n",
      "        0.        ,  0.19212443]), array([ 0.00376422,  0.        ,  0.        , ...,  0.        ,\n",
      "        0.        ,  0.14855738]), array([ 0.        ,  0.        ,  0.        , ...,  0.        ,\n",
      "        0.        ,  0.18518586]), array([ 0.       ,  0.       ,  0.       , ...,  0.       ,  0.       ,\n",
      "        0.0473723]), array([ 0.        ,  0.        ,  0.        , ...,  0.        ,\n",
      "        0.        ,  0.00019384]), array([ 0.        ,  0.        ,  0.        , ...,  0.        ,\n",
      "        0.        ,  0.17422248]), array([ 0.        ,  0.        ,  0.00014352, ...,  0.        ,\n",
      "        0.        ,  0.05690372]), array([ 0.        ,  0.        ,  0.        , ...,  0.        ,\n",
      "        0.        ,  0.00504779]), array([ 0.        ,  0.        ,  0.        , ...,  0.        ,\n",
      "        0.        ,  0.05353458]), array([ 0.        ,  0.        ,  0.        , ...,  0.        ,\n",
      "        0.        ,  0.22768253]), array([ 0.        ,  0.        ,  0.        , ...,  0.        ,\n",
      "        0.        ,  0.03023656]), array([ 0.        ,  0.        ,  0.        , ...,  0.        ,\n",
      "        0.        ,  0.39014474]), array([ 0.        ,  0.        ,  0.        , ...,  0.        ,\n",
      "        0.        ,  0.00312117]), array([ 0.        ,  0.        ,  0.        , ...,  0.        ,\n",
      "        0.        ,  0.24802737]), array([ 0.       ,  0.       ,  0.       , ...,  0.       ,  0.       ,\n",
      "        0.0238299]), array([ 0.        ,  0.        ,  0.        , ...,  0.        ,\n",
      "        0.        ,  0.06481579]), array([ 0.00759583,  0.0009414 ,  0.        , ...,  0.        ,\n",
      "        0.        ,  0.07928678]), array([ 0.        ,  0.        ,  0.        , ...,  0.        ,\n",
      "        0.        ,  0.04237008]), array([ 0.        ,  0.        ,  0.        , ...,  0.        ,\n",
      "        0.        ,  0.05283719]), array([ 0.        ,  0.        ,  0.        , ...,  0.        ,\n",
      "        0.        ,  0.34029676]), array([ 0.       ,  0.       ,  0.       , ...,  0.       ,  0.       ,\n",
      "        0.1239244]), array([ 0.14593905,  0.        ,  0.        , ...,  0.        ,\n",
      "        0.        ,  0.29042595]), array([ 0.        ,  0.        ,  0.        , ...,  0.        ,\n",
      "        0.        ,  0.27051352]), array([ 0.00963299,  0.00145711,  0.        , ...,  0.        ,\n",
      "        0.        ,  0.03991325]), array([ 0.        ,  0.        ,  0.        , ...,  0.        ,\n",
      "        0.        ,  0.14952872]), array([ 0.        ,  0.        ,  0.        , ...,  0.        ,\n",
      "        0.        ,  0.12815033]), array([ 0.        ,  0.        ,  0.        , ...,  0.        ,\n",
      "        0.        ,  0.14410502]), array([ 0.        ,  0.        ,  0.        , ...,  0.        ,\n",
      "        0.        ,  0.03057051]), array([ 0.        ,  0.        ,  0.        , ...,  0.04742823,\n",
      "        0.        ,  0.16772135]), array([ 0.        ,  0.        ,  0.        , ...,  0.06236513,\n",
      "        0.        ,  0.16088367]), array([ 0.        ,  0.        ,  0.        , ...,  0.        ,\n",
      "        0.        ,  0.22427774]), array([ 0.        ,  0.        ,  0.        , ...,  0.        ,\n",
      "        0.        ,  0.14206429]), array([ 0.        ,  0.        ,  0.        , ...,  0.        ,\n",
      "        0.        ,  0.16717979]), array([ 0.        ,  0.        ,  0.        , ...,  0.        ,\n",
      "        0.        ,  0.21229392]), array([ 0.        ,  0.        ,  0.        , ...,  0.        ,\n",
      "        0.        ,  0.06790883]), array([ 0.        ,  0.        ,  0.        , ...,  0.        ,\n",
      "        0.        ,  0.18498703]), array([ 0.        ,  0.        ,  0.        , ...,  0.        ,\n",
      "        0.        ,  0.32219162]), array([ 0.        ,  0.        ,  0.        , ...,  0.        ,\n",
      "        0.        ,  0.38256717]), array([ 0.        ,  0.        ,  0.        , ...,  0.        ,\n",
      "        0.        ,  0.07448628]), array([ 0.        ,  0.        ,  0.        , ...,  0.        ,\n",
      "        0.        ,  0.00167649]), array([ 0.        ,  0.        ,  0.        , ...,  0.        ,\n",
      "        0.        ,  0.24789105]), array([ 0.        ,  0.        ,  0.        , ...,  0.        ,\n",
      "        0.        ,  0.14691058]), array([ 0.        ,  0.        ,  0.        , ...,  0.        ,\n",
      "        0.        ,  0.28005863]), array([ 0.        ,  0.        ,  0.        , ...,  0.        ,\n",
      "        0.        ,  0.02138623]), array([  0.00000000e+00,   0.00000000e+00,   0.00000000e+00, ...,\n",
      "         0.00000000e+00,   6.99614598e-18,   2.42105016e-02]), array([ 0.        ,  0.        ,  0.        , ...,  0.        ,\n",
      "        0.        ,  0.02322272]), array([ 0.        ,  0.        ,  0.        , ...,  0.        ,\n",
      "        0.        ,  0.05021501]), array([ 0.        ,  0.        ,  0.        , ...,  0.        ,\n",
      "        0.        ,  0.02817226]), array([ 0.        ,  0.        ,  0.        , ...,  0.        ,\n",
      "        0.        ,  0.02067812]), array([ 0.        ,  0.        ,  0.        , ...,  0.        ,\n",
      "        0.        ,  0.03456002]), array([ 0.        ,  0.        ,  0.        , ...,  0.        ,\n",
      "        0.        ,  0.00229505]), array([ 0.        ,  0.        ,  0.        , ...,  0.        ,\n",
      "        0.        ,  0.06789446]), array([  0.00000000e+00,   0.00000000e+00,   0.00000000e+00, ...,\n",
      "         0.00000000e+00,   0.00000000e+00,   2.49214115e-05]), array([ 0.        ,  0.        ,  0.        , ...,  0.        ,\n",
      "        0.        ,  0.08153684]), array([ 0.        ,  0.        ,  0.        , ...,  0.        ,\n",
      "        0.        ,  0.01695369]), array([ 0.        ,  0.        ,  0.        , ...,  0.        ,\n",
      "        0.        ,  0.03118824]), array([ 0.        ,  0.        ,  0.        , ...,  0.        ,\n",
      "        0.        ,  0.00634564]), array([ 0.        ,  0.        ,  0.        , ...,  0.        ,\n",
      "        0.        ,  0.01477961]), array([ 0.        ,  0.        ,  0.        , ...,  0.        ,\n",
      "        0.        ,  0.00193276]), array([ 0.01666194,  0.        ,  0.        , ...,  0.        ,\n",
      "        0.        ,  0.01513054]), array([ 0.        ,  0.        ,  0.        , ...,  0.        ,\n",
      "        0.        ,  0.11603776]), array([ 0.        ,  0.        ,  0.        , ...,  0.        ,\n",
      "        0.        ,  0.06074551]), array([ 0.        ,  0.        ,  0.        , ...,  0.        ,\n",
      "        0.        ,  0.00886684]), array([ 0.        ,  0.        ,  0.        , ...,  0.01421929,\n",
      "        0.        ,  0.25803266]), array([ 0.       ,  0.       ,  0.       , ...,  0.       ,  0.       ,\n",
      "        0.1543635]), array([ 0.        ,  0.        ,  0.        , ...,  0.        ,\n",
      "        0.        ,  0.04687486]), array([ 0.       ,  0.       ,  0.       , ...,  0.       ,  0.       ,\n",
      "        0.2328974]), array([ 0.        ,  0.        ,  0.        , ...,  0.        ,\n",
      "        0.        ,  0.09448316]), array([ 0.       ,  0.       ,  0.       , ...,  0.       ,  0.       ,\n",
      "        0.0096571]), array([ 0.        ,  0.        ,  0.        , ...,  0.        ,\n",
      "        0.        ,  0.22883795]), array([ 0.05812808,  0.        ,  0.        , ...,  0.        ,\n",
      "        0.        ,  0.06715082]), array([ 0.00720601,  0.00031284,  0.00014763, ...,  0.        ,\n",
      "        0.        ,  0.08275697]), array([ 0.        ,  0.        ,  0.        , ...,  0.        ,\n",
      "        0.        ,  0.20231247]), array([  1.60306530e-03,   7.75103558e-05,   0.00000000e+00, ...,\n",
      "         0.00000000e+00,   0.00000000e+00,   1.23046964e-01]), array([ 0.        ,  0.        ,  0.        , ...,  0.        ,\n",
      "        0.        ,  0.38101888]), array([ 0.        ,  0.        ,  0.        , ...,  0.        ,\n",
      "        0.        ,  0.23548904]), array([ 0.        ,  0.        ,  0.        , ...,  0.        ,\n",
      "        0.        ,  0.01522403]), array([ 0.        ,  0.        ,  0.        , ...,  0.        ,\n",
      "        0.        ,  0.02709005]), array([ 0.18255731,  0.00426737,  0.        , ...,  0.        ,\n",
      "        0.        ,  0.00886108]), array([ 0.        ,  0.        ,  0.        , ...,  0.        ,\n",
      "        0.        ,  0.20359034]), array([ 0.        ,  0.        ,  0.        , ...,  0.        ,\n",
      "        0.        ,  0.23415675]), array([ 0.        ,  0.        ,  0.        , ...,  0.        ,\n",
      "        0.        ,  0.14914214]), array([ 0.        ,  0.        ,  0.        , ...,  0.        ,\n",
      "        0.        ,  0.23013877]), array([ 0.        ,  0.        ,  0.        , ...,  0.        ,\n",
      "        0.        ,  0.00014054]), array([  0.00000000e+00,   0.00000000e+00,   0.00000000e+00, ...,\n",
      "         0.00000000e+00,   0.00000000e+00,   8.61421811e-05]), array([ 0.        ,  0.        ,  0.        , ...,  0.        ,\n",
      "        0.        ,  0.20413802]), array([ 0.0003151 ,  0.        ,  0.        , ...,  0.        ,\n",
      "        0.        ,  0.16894784]), array([ 0.        ,  0.        ,  0.        , ...,  0.        ,\n",
      "        0.        ,  0.00172156]), array([ 0.        ,  0.        ,  0.        , ...,  0.        ,\n",
      "        0.        ,  0.22122313]), array([ 0.       ,  0.       ,  0.       , ...,  0.       ,  0.       ,\n",
      "        0.1039082]), array([ 0.       ,  0.       ,  0.       , ...,  0.       ,  0.       ,\n",
      "        0.1390893]), array([ 0.        ,  0.        ,  0.        , ...,  0.        ,\n",
      "        0.        ,  0.00743733]), array([ 0.00755842,  0.03851732,  0.00198839, ...,  0.        ,\n",
      "        0.        ,  0.21025419]), array([ 0.        ,  0.        ,  0.        , ...,  0.        ,\n",
      "        0.01572096,  0.37133415]), array([ 0.        ,  0.        ,  0.        , ...,  0.        ,\n",
      "        0.        ,  0.25969782]), array([ 0.       ,  0.       ,  0.       , ...,  0.       ,  0.       ,\n",
      "        0.0234118]), array([ 0.        ,  0.        ,  0.        , ...,  0.        ,\n",
      "        0.        ,  0.11837352]), array([ 0.00170899,  0.00242   ,  0.00074333, ...,  0.        ,\n",
      "        0.        ,  0.24048342]), array([ 0.        ,  0.        ,  0.0005064 , ...,  0.        ,\n",
      "        0.        ,  0.01471459]), array([ 0.00484841,  0.        ,  0.        , ...,  0.        ,\n",
      "        0.        ,  0.22299123]), array([ 0.        ,  0.        ,  0.        , ...,  0.        ,\n",
      "        0.        ,  0.04934148]), array([ 0.        ,  0.        ,  0.        , ...,  0.        ,\n",
      "        0.        ,  0.07360164]), array([ 0.       ,  0.       ,  0.       , ...,  0.       ,  0.       ,\n",
      "        0.2736916]), array([ 0.        ,  0.        ,  0.        , ...,  0.        ,\n",
      "        0.        ,  0.26312223]), array([ 0.       ,  0.       ,  0.       , ...,  0.       ,  0.       ,\n",
      "        0.0163293]), array([ 0.        ,  0.        ,  0.        , ...,  0.        ,\n",
      "        0.        ,  0.06684876]), array([ 0.        ,  0.        ,  0.        , ...,  0.        ,\n",
      "        0.        ,  0.14843618]), array([ 0.00035991,  0.00560272,  0.        , ...,  0.        ,\n",
      "        0.        ,  0.24727389]), array([ 0.        ,  0.        ,  0.        , ...,  0.        ,\n",
      "        0.        ,  0.00054802]), array([ 0.00264723,  0.00260849,  0.00126056, ...,  0.        ,\n",
      "        0.        ,  0.00077646]), array([ 0.        ,  0.        ,  0.        , ...,  0.        ,\n",
      "        0.        ,  0.09470094]), array([ 0.        ,  0.        ,  0.        , ...,  0.        ,\n",
      "        0.        ,  0.00522489]), array([ 0.        ,  0.        ,  0.        , ...,  0.        ,\n",
      "        0.        ,  0.01601512]), array([ 0.        ,  0.        ,  0.        , ...,  0.        ,\n",
      "        0.        ,  0.07894661]), array([ 0.        ,  0.        ,  0.        , ...,  0.        ,\n",
      "        0.        ,  0.02505609]), array([ 0.        ,  0.        ,  0.        , ...,  0.        ,\n",
      "        0.        ,  0.00026423]), array([ 0.        ,  0.        ,  0.        , ...,  0.        ,\n",
      "        0.        ,  0.19923415]), array([ 0.        ,  0.        ,  0.        , ...,  0.        ,\n",
      "        0.        ,  0.05028062]), array([ 0.        ,  0.        ,  0.        , ...,  0.        ,\n",
      "        0.        ,  0.20841338]), array([ 0.        ,  0.        ,  0.        , ...,  0.        ,\n",
      "        0.        ,  0.07534888]), array([ 0.        ,  0.        ,  0.        , ...,  0.        ,\n",
      "        0.        ,  0.22423679]), array([ 0.        ,  0.        ,  0.        , ...,  0.        ,\n",
      "        0.        ,  0.36592724]), array([ 0.        ,  0.00251798,  0.00284924, ...,  0.        ,\n",
      "        0.        ,  0.40862985]), array([  0.00000000e+00,   0.00000000e+00,   0.00000000e+00, ...,\n",
      "         0.00000000e+00,   0.00000000e+00,   1.37570214e-06]), array([ 0.        ,  0.        ,  0.        , ...,  0.        ,\n",
      "        0.        ,  0.27679769]), array([ 0.        ,  0.        ,  0.        , ...,  0.        ,\n",
      "        0.        ,  0.00014228]), array([ 0.        ,  0.        ,  0.        , ...,  0.        ,\n",
      "        0.        ,  0.14366882]), array([ 0.00451314,  0.00098276,  0.        , ...,  0.04276481,\n",
      "        0.07778822,  0.44827677]), array([ 0.        ,  0.        ,  0.        , ...,  0.        ,\n",
      "        0.        ,  0.14650939]), array([ 0.        ,  0.        ,  0.        , ...,  0.        ,\n",
      "        0.        ,  0.01232078]), array([ 0.        ,  0.        ,  0.        , ...,  0.        ,\n",
      "        0.        ,  0.28391469]), array([ 0.        ,  0.        ,  0.        , ...,  0.        ,\n",
      "        0.        ,  0.21469839]), array([ 0.        ,  0.        ,  0.        , ...,  0.        ,\n",
      "        0.        ,  0.08470629]), array([ 0.        ,  0.        ,  0.        , ...,  0.        ,\n",
      "        0.        ,  0.09821038]), array([ 0.       ,  0.       ,  0.       , ...,  0.       ,  0.       ,\n",
      "        0.0594024]), array([ 0.        ,  0.        ,  0.        , ...,  0.        ,\n",
      "        0.        ,  0.08545128]), array([ 0.        ,  0.        ,  0.        , ...,  0.        ,\n",
      "        0.        ,  0.01456012]), array([ 0.       ,  0.       ,  0.       , ...,  0.       ,  0.       ,\n",
      "        0.0141911]), array([ 0.        ,  0.        ,  0.        , ...,  0.        ,\n",
      "        0.02509413,  0.1433667 ]), array([  0.00000000e+00,   0.00000000e+00,   0.00000000e+00, ...,\n",
      "         0.00000000e+00,   0.00000000e+00,   1.65132265e-05]), array([ 0.        ,  0.        ,  0.        , ...,  0.        ,\n",
      "        0.        ,  0.01784013]), array([ 0.        ,  0.        ,  0.        , ...,  0.        ,\n",
      "        0.        ,  0.01569057]), array([ 0.       ,  0.       ,  0.       , ...,  0.       ,  0.       ,\n",
      "        0.0634856]), array([ 0.        ,  0.        ,  0.        , ...,  0.        ,\n",
      "        0.        ,  0.18530134]), array([ 0.      ,  0.      ,  0.      , ...,  0.      ,  0.      ,\n",
      "        0.157559]), array([ 0.        ,  0.        ,  0.        , ...,  0.        ,\n",
      "        0.        ,  0.13073017]), array([ 0.        ,  0.00032726,  0.        , ...,  0.        ,\n",
      "        0.        ,  0.16728817]), array([ 0.        ,  0.        ,  0.        , ...,  0.        ,\n",
      "        0.        ,  0.03015585]), array([ 0.        ,  0.        ,  0.        , ...,  0.        ,\n",
      "        0.        ,  0.08005166]), array([ 0.02389196,  0.00295545,  0.00081163, ...,  0.        ,\n",
      "        0.        ,  0.07169565]), array([ 0.        ,  0.        ,  0.        , ...,  0.        ,\n",
      "        0.        ,  0.23701158]), array([ 0.        ,  0.        ,  0.        , ...,  0.        ,\n",
      "        0.        ,  0.15345042]), array([  0.00000000e+00,   0.00000000e+00,   0.00000000e+00, ...,\n",
      "         0.00000000e+00,   0.00000000e+00,   1.85960144e-05]), array([ 0.00011599,  0.        ,  0.        , ...,  0.        ,\n",
      "        0.        ,  0.05518336]), array([ 0.        ,  0.        ,  0.        , ...,  0.        ,\n",
      "        0.        ,  0.12558598]), array([ 0.        ,  0.        ,  0.        , ...,  0.        ,\n",
      "        0.        ,  0.17231799]), array([ 0.        ,  0.        ,  0.        , ...,  0.        ,\n",
      "        0.        ,  0.36806506]), array([ 0.        ,  0.        ,  0.        , ...,  0.        ,\n",
      "        0.        ,  0.06676064]), array([  0.00000000e+00,   0.00000000e+00,   0.00000000e+00, ...,\n",
      "         9.79476544e-20,   0.00000000e+00,   7.54255432e-03]), array([ 0.        ,  0.        ,  0.        , ...,  0.        ,\n",
      "        0.        ,  0.19600697]), array([  0.00000000e+00,   8.80111897e-05,   5.46777146e-04, ...,\n",
      "        -2.77496913e-17,   0.00000000e+00,   3.34291129e-02]), array([ 0.        ,  0.        ,  0.        , ...,  0.        ,\n",
      "        0.        ,  0.02959531]), array([ 0.0005629 ,  0.        ,  0.00119316, ...,  0.        ,\n",
      "        0.        ,  0.05163286]), array([ 0.        ,  0.00061124,  0.00733318, ...,  0.        ,\n",
      "        0.        ,  0.13813682]), array([ 0.       ,  0.       ,  0.       , ...,  0.       ,  0.       ,\n",
      "        0.0038246]), array([ 0.        ,  0.        ,  0.        , ...,  0.        ,\n",
      "        0.        ,  0.09334495]), array([ 0.        ,  0.00148377,  0.00399352, ...,  0.        ,\n",
      "        0.        ,  0.04331584]), array([ 0.        ,  0.        ,  0.        , ...,  0.        ,\n",
      "        0.        ,  0.01502587]), array([ 0.        ,  0.        ,  0.        , ...,  0.        ,\n",
      "        0.        ,  0.10720238]), array([ 0.        ,  0.        ,  0.        , ...,  0.        ,\n",
      "        0.        ,  0.00077679]), array([ 0.00359088,  0.        ,  0.        , ...,  0.        ,\n",
      "        0.        ,  0.38748976]), array([ 0.        ,  0.        ,  0.        , ...,  0.        ,\n",
      "        0.        ,  0.02956704]), array([ 0.        ,  0.        ,  0.00674223, ...,  0.        ,\n",
      "        0.        ,  0.01666929]), array([  0.00000000e+00,   0.00000000e+00,   0.00000000e+00, ...,\n",
      "         0.00000000e+00,   0.00000000e+00,   3.43233651e-06]), array([ 0.        ,  0.        ,  0.00201499, ...,  0.        ,\n",
      "        0.        ,  0.00035629]), array([ 0.01019613,  0.        ,  0.        , ...,  0.        ,\n",
      "        0.        ,  0.00505225]), array([ 0.        ,  0.        ,  0.        , ...,  0.        ,\n",
      "        0.        ,  0.01028078]), array([  0.00000000e+00,   0.00000000e+00,   7.16998467e-05, ...,\n",
      "         0.00000000e+00,   0.00000000e+00,   5.90777210e-02]), array([ 0.        ,  0.        ,  0.        , ...,  0.        ,\n",
      "        0.        ,  0.03922159]), array([ 0.       ,  0.       ,  0.       , ...,  0.       ,  0.       ,\n",
      "        0.0147968]), array([ 0.        ,  0.        ,  0.        , ...,  0.        ,\n",
      "        0.        ,  0.08284395]), array([ 0.        ,  0.        ,  0.        , ...,  0.        ,\n",
      "        0.        ,  0.05845699]), array([  4.80325479e-02,   1.66590492e-03,   1.74852931e-04, ...,\n",
      "         0.00000000e+00,   0.00000000e+00,   2.31576904e-01])]\n"
     ]
    },
    {
     "ename": "TypeError",
     "evalue": "list indices must be integers, not tuple",
     "output_type": "error",
     "traceback": [
      "\u001b[0;31m---------------------------------------------------------------------------\u001b[0m",
      "\u001b[0;31mTypeError\u001b[0m                                 Traceback (most recent call last)",
      "\u001b[0;32m<ipython-input-59-1595f9c19a66>\u001b[0m in \u001b[0;36m<module>\u001b[0;34m()\u001b[0m\n\u001b[1;32m      3\u001b[0m \u001b[0mt\u001b[0m \u001b[0;34m=\u001b[0m \u001b[0mKnnDtw\u001b[0m\u001b[0;34m(\u001b[0m\u001b[0mn_neighbors\u001b[0m\u001b[0;34m=\u001b[0m\u001b[0;36m1\u001b[0m\u001b[0;34m)\u001b[0m\u001b[0;34m\u001b[0m\u001b[0m\n\u001b[1;32m      4\u001b[0m \u001b[0mt\u001b[0m\u001b[0;34m.\u001b[0m\u001b[0mfit\u001b[0m\u001b[0;34m(\u001b[0m\u001b[0mtrain\u001b[0m\u001b[0;34m,\u001b[0m \u001b[0mtrain_labels\u001b[0m\u001b[0;34m)\u001b[0m\u001b[0;34m\u001b[0m\u001b[0m\n\u001b[0;32m----> 5\u001b[0;31m \u001b[0mlabel\u001b[0m\u001b[0;34m,\u001b[0m \u001b[0mproba\u001b[0m \u001b[0;34m=\u001b[0m \u001b[0mt\u001b[0m\u001b[0;34m.\u001b[0m\u001b[0mpredict\u001b[0m\u001b[0;34m(\u001b[0m\u001b[0mtest\u001b[0m\u001b[0;34m)\u001b[0m\u001b[0;34m\u001b[0m\u001b[0m\n\u001b[0m\u001b[1;32m      6\u001b[0m \u001b[0mmetrics\u001b[0m\u001b[0;34m.\u001b[0m\u001b[0maccuracy_score\u001b[0m\u001b[0;34m(\u001b[0m\u001b[0mlabel\u001b[0m\u001b[0;34m,\u001b[0m \u001b[0mtest_labels\u001b[0m\u001b[0;34m)\u001b[0m\u001b[0;34m\u001b[0m\u001b[0m\n",
      "\u001b[0;32m<ipython-input-55-d14898fc4b32>\u001b[0m in \u001b[0;36mpredict\u001b[0;34m(self, x)\u001b[0m\n\u001b[1;32m    155\u001b[0m         \"\"\"\n\u001b[1;32m    156\u001b[0m \u001b[0;34m\u001b[0m\u001b[0m\n\u001b[0;32m--> 157\u001b[0;31m         \u001b[0mdm\u001b[0m \u001b[0;34m=\u001b[0m \u001b[0mself\u001b[0m\u001b[0;34m.\u001b[0m\u001b[0m_dist_matrix\u001b[0m\u001b[0;34m(\u001b[0m\u001b[0mx\u001b[0m\u001b[0;34m,\u001b[0m \u001b[0mself\u001b[0m\u001b[0;34m.\u001b[0m\u001b[0mx\u001b[0m\u001b[0;34m)\u001b[0m\u001b[0;34m\u001b[0m\u001b[0m\n\u001b[0m\u001b[1;32m    158\u001b[0m \u001b[0;34m\u001b[0m\u001b[0m\n\u001b[1;32m    159\u001b[0m         \u001b[0;31m# Identify the k nearest neighbors\u001b[0m\u001b[0;34m\u001b[0m\u001b[0;34m\u001b[0m\u001b[0m\n",
      "\u001b[0;32m<ipython-input-55-d14898fc4b32>\u001b[0m in \u001b[0;36m_dist_matrix\u001b[0;34m(self, x, y)\u001b[0m\n\u001b[1;32m    132\u001b[0m             \u001b[0;32mfor\u001b[0m \u001b[0mi\u001b[0m \u001b[0;32min\u001b[0m \u001b[0mxrange\u001b[0m\u001b[0;34m(\u001b[0m\u001b[0;36m0\u001b[0m\u001b[0;34m,\u001b[0m \u001b[0mx_s\u001b[0m\u001b[0;34m[\u001b[0m\u001b[0;36m0\u001b[0m\u001b[0;34m]\u001b[0m\u001b[0;34m)\u001b[0m\u001b[0;34m:\u001b[0m\u001b[0;34m\u001b[0m\u001b[0m\n\u001b[1;32m    133\u001b[0m                 \u001b[0;32mfor\u001b[0m \u001b[0mj\u001b[0m \u001b[0;32min\u001b[0m \u001b[0mxrange\u001b[0m\u001b[0;34m(\u001b[0m\u001b[0;36m0\u001b[0m\u001b[0;34m,\u001b[0m \u001b[0my_s\u001b[0m\u001b[0;34m[\u001b[0m\u001b[0;36m0\u001b[0m\u001b[0;34m]\u001b[0m\u001b[0;34m)\u001b[0m\u001b[0;34m:\u001b[0m\u001b[0;34m\u001b[0m\u001b[0m\n\u001b[0;32m--> 134\u001b[0;31m                     dm[i, j] = self._dtw_distance(x[i, ::self.subsample_step],\n\u001b[0m\u001b[1;32m    135\u001b[0m                                                   y[j, ::self.subsample_step])\n\u001b[1;32m    136\u001b[0m                     \u001b[0;31m# Update progress bar\u001b[0m\u001b[0;34m\u001b[0m\u001b[0;34m\u001b[0m\u001b[0m\n",
      "\u001b[0;31mTypeError\u001b[0m: list indices must be integers, not tuple"
     ]
    }
   ],
   "source": [
    "#KNN code using dtw n = 1\n",
    "print(train)\n",
    "t = KnnDtw(n_neighbors=1)\n",
    "t.fit(train, train_labels)\n",
    "label, proba = t.predict(test)\n",
    "metrics.accuracy_score(label, test_labels)\n"
   ]
  }
 ],
 "metadata": {
  "anaconda-cloud": {},
  "kernelspec": {
   "display_name": "Python [conda root]",
   "language": "python",
   "name": "conda-root-py"
  },
  "language_info": {
   "codemirror_mode": {
    "name": "ipython",
    "version": 2
   },
   "file_extension": ".py",
   "mimetype": "text/x-python",
   "name": "python",
   "nbconvert_exporter": "python",
   "pygments_lexer": "ipython2",
   "version": "2.7.12"
  }
 },
 "nbformat": 4,
 "nbformat_minor": 1
}
